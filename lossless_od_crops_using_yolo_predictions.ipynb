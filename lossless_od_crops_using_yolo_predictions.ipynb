{
 "cells": [
  {
   "cell_type": "code",
   "execution_count": null,
   "metadata": {},
   "outputs": [],
   "source": [
    "import os\n",
    "import cv2\n",
    "import src.preprocessing as ppc\n",
    "from tqdm.notebook import tqdm\n",
    "import json\n",
    "import pandas as pd"
   ]
  },
  {
   "cell_type": "markdown",
   "source": [
    "# Config"
   ],
   "metadata": {
    "collapsed": false
   }
  },
  {
   "cell_type": "code",
   "execution_count": null,
   "outputs": [],
   "source": [
    "TEST_SET = True\n",
    "\n",
    "if TEST_SET:\n",
    "    OUT_DIR_PREFIX = 'test_'\n",
    "    CFP_DIR = './data/test_cfp'\n",
    "    IS_SHUFFLED = False\n",
    "    YOLO_DIR = \"data/labels_test_finalModel\"\n",
    "    IMG_INFO_CSV = './data/test_shuffled_square_png_640_1/img_info.csv'\n",
    "else:\n",
    "    OUT_DIR_PREFIX = ''\n",
    "    CFP_DIR = './data/cfp'\n",
    "    IS_SHUFFLED = True\n",
    "    YOLO_DIR = \"data/labels_train_finalModel\"\n",
    "    IMG_INFO_CSV = './data/shuffled_square_png_640_1/img_info.csv'\n",
    "\n",
    "# change this\n",
    "MULTIPROCESSING_WORKERS = 8\n",
    "USE_FOV_DIST = True  # if False, then uses the OD disk diameter as a basis for the crop size\n",
    "MAX_OD_DIAMETER_PROP = 2.0\n",
    "MIN_FOVEA_CONF = 0.75\n",
    "\n",
    "# Don't change this unless you know exactly what you are doing\n",
    "CROP_ENLARGMENT_FACTOR = 2**0.5 * 1.01  # so that a rotation of the area of interest will not show an artificial border\n",
    "MAX_FOV_DIST_PROP = MAX_OD_DIAMETER_PROP * 1.92/((4.5**2+0.65**2)**0.5)  # ratio between average OD diameter and average distance between fovea center and OD center https://en.wikipedia.org/wiki/Fovea_centralis#/media/File:Macula.svg"
   ],
   "metadata": {
    "collapsed": false
   }
  },
  {
   "cell_type": "markdown",
   "source": [
    "# Implementation"
   ],
   "metadata": {
    "collapsed": false
   }
  },
  {
   "cell_type": "code",
   "execution_count": null,
   "outputs": [],
   "source": [
    "if IS_SHUFFLED:\n",
    "    with open('original_shuffled_map.json') as fp:\n",
    "        original_shuffled_map = json.load(fp)\n",
    "\n",
    "    shuffled_orig_map = {}\n",
    "    for k, v in original_shuffled_map.items():\n",
    "        shuffled_orig_map[v] = k\n",
    "\n",
    "    shuffled_orig_map"
   ],
   "metadata": {
    "collapsed": false
   }
  },
  {
   "cell_type": "code",
   "execution_count": null,
   "outputs": [],
   "source": [
    "records = []\n",
    "for filename in tqdm(os.listdir(YOLO_DIR)):\n",
    "    key = filename[:-4]\n",
    "    if IS_SHUFFLED:\n",
    "        key = shuffled_orig_map[key]\n",
    "    with open(f\"{YOLO_DIR}/{filename}\", \"r\") as f:\n",
    "        odc = [None] * 5\n",
    "        fovea = [None] * 5\n",
    "        for line in f.readlines():\n",
    "            pred = [float(number) for number in line.split()]\n",
    "            if pred[0]==0:\n",
    "                odc=pred[1:]\n",
    "            if pred[0]==1:\n",
    "                fovea=pred[1:]\n",
    "\n",
    "        record = [key, ]\n",
    "        record.extend(odc)\n",
    "        record.extend(fovea)\n",
    "        records.append(tuple(record))\n",
    "\n",
    "df_detector = pd.DataFrame.from_records(records, columns=[\n",
    "    'filename',\n",
    "    'odc_x_ratio', 'odc_y_ratio', 'odc_width_ratio', 'odc_height_ratio', 'odc_conf',\n",
    "    'fovea_x_ratio', 'fovea_y_ratio', 'fovea_width_ratio', 'fovea_height_ratio', 'fovea_conf'])\n",
    "\n",
    "df_detector = df_detector.set_index('filename')\n",
    "df_detector"
   ],
   "metadata": {
    "collapsed": false
   }
  },
  {
   "cell_type": "code",
   "execution_count": null,
   "outputs": [],
   "source": [
    "df_square = pd.read_csv(IMG_INFO_CSV)\n",
    "df_square = df_square.drop(columns=['scaling', 'new_file', 'side']).set_index('orig_file')\n",
    "df_square"
   ],
   "metadata": {
    "collapsed": false
   }
  },
  {
   "cell_type": "code",
   "execution_count": null,
   "metadata": {},
   "outputs": [],
   "source": [
    "if USE_FOV_DIST:\n",
    "    OUT_PATH = f'data/{OUT_DIR_PREFIX}cfp_od_crop_FOV_f{MAX_OD_DIAMETER_PROP}_conf{MIN_FOVEA_CONF}'\n",
    "else:\n",
    "    OUT_PATH = f'data/{OUT_DIR_PREFIX}cfp_od_crop_OD_f{MAX_OD_DIAMETER_PROP}'\n",
    "\n",
    "if not os.path.isdir(OUT_PATH):\n",
    "    print(f'{OUT_PATH} does not exist, creating dir')\n",
    "    os.mkdir(OUT_PATH)"
   ]
  },
  {
   "cell_type": "code",
   "execution_count": null,
   "metadata": {},
   "outputs": [],
   "source": [
    "from multiprocessing import Pool\n",
    "import math\n",
    "\n",
    "def _process_file(filename):\n",
    "    try:\n",
    "        file = f\"{CFP_DIR}/{filename}\"\n",
    "        img = cv2.imread(file)\n",
    "        sq_info = df_square.loc[filename]\n",
    "        detect_info = df_detector.loc[filename]\n",
    "\n",
    "        if math.isnan(detect_info.odc_x_ratio + detect_info.odc_y_ratio):\n",
    "            print(f\"No OD for {filename}\")\n",
    "            return\n",
    "\n",
    "        if USE_FOV_DIST:\n",
    "            if not math.isnan(detect_info.fovea_x_ratio + detect_info.fovea_y_ratio) and detect_info.fovea_conf >= MIN_FOVEA_CONF:\n",
    "                x2, x1 = detect_info.fovea_x_ratio, detect_info.odc_x_ratio\n",
    "                y2, y1 = detect_info.fovea_y_ratio, detect_info.odc_y_ratio\n",
    "                # distance between the fovea and OD center\n",
    "                side = ((x2 - x1)**2 + (y2 - y1)**2)**0.5\n",
    "                side = side * MAX_FOV_DIST_PROP * sq_info.orig_crop_side\n",
    "            else:\n",
    "                print(f\"No FOV (conf {detect_info.fovea_conf} < {MIN_FOVEA_CONF}) for {filename}\")\n",
    "                return\n",
    "        else:\n",
    "            side = (detect_info.odc_width_ratio + detect_info.odc_height_ratio)/2\n",
    "            side = side * MAX_OD_DIAMETER_PROP * sq_info.orig_crop_side\n",
    "        side = int(side * CROP_ENLARGMENT_FACTOR)\n",
    "\n",
    "        odc_x = int(round(sq_info.orig_crop_side * detect_info.odc_x_ratio - sq_info.delta_y))\n",
    "        odc_y = int(round(sq_info.orig_crop_side * detect_info.odc_y_ratio - sq_info.delta_x))\n",
    "\n",
    "        # add_top = (img.shape[0] - sq_info.orig_crop_side)/2\n",
    "        # add_left = (img.shape[1] - sq_info.orig_crop_side)/2\n",
    "        # odc_x = int(round(sq_info.orig_crop_side * detect_info.odc_x_ratio + add_left))\n",
    "        # odc_y = int(round(sq_info.orig_crop_side * detect_info.odc_y_ratio + add_top))\n",
    "\n",
    "        #print(detect_info*sq_info.orig_crop_side, sq_info)\n",
    "        #print(odc_x, odc_y, int(side * CROP_ENLARGMENT_FACTOR))\n",
    "        square_img = ppc.crop_od_fill_if_needed(img, odc_x, odc_y, side)\n",
    "\n",
    "        cv2.imwrite(f\"{OUT_PATH}/{filename[:-4]}.png\", square_img)\n",
    "\n",
    "    except Exception as e:\n",
    "        print('error ', filename, e)\n",
    "        raise\n",
    "        \n",
    "l_files = sorted(os.listdir(CFP_DIR))"
   ]
  },
  {
   "cell_type": "code",
   "execution_count": null,
   "metadata": {},
   "outputs": [],
   "source": [
    "if MULTIPROCESSING_WORKERS > 1:\n",
    "    with Pool(MULTIPROCESSING_WORKERS) as pool:\n",
    "        _ = list(tqdm(pool.imap(_process_file, l_files), total=len(l_files)))\n",
    "else:\n",
    "    for f in tqdm(l_files):\n",
    "        _process_file(f)\n",
    "\n",
    "print('Finished.')"
   ]
  },
  {
   "cell_type": "code",
   "execution_count": null,
   "outputs": [],
   "source": [],
   "metadata": {
    "collapsed": false
   }
  }
 ],
 "metadata": {
  "kernelspec": {
   "display_name": "Python 3 (ipykernel)",
   "language": "python",
   "name": "python3"
  },
  "language_info": {
   "codemirror_mode": {
    "name": "ipython",
    "version": 3
   },
   "file_extension": ".py",
   "mimetype": "text/x-python",
   "name": "python",
   "nbconvert_exporter": "python",
   "pygments_lexer": "ipython3",
   "version": "3.10.6"
  },
  "vscode": {
   "interpreter": {
    "hash": "57f342097538a94dce76f641226d5c17132434264349d7950426b24ea9e8926f"
   }
  }
 },
 "nbformat": 4,
 "nbformat_minor": 2
}
