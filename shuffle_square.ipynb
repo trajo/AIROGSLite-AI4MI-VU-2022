{
 "cells": [
  {
   "cell_type": "code",
   "execution_count": 1,
   "metadata": {
    "pycharm": {
     "name": "#%%\n"
    }
   },
   "outputs": [],
   "source": [
    "import os\n",
    "import cv2\n",
    "from src.preprocessing import make_square\n",
    "from tqdm.notebook import tqdm\n",
    "import random\n",
    "import json"
   ]
  },
  {
   "cell_type": "markdown",
   "metadata": {
    "pycharm": {
     "name": "#%% md\n"
    }
   },
   "source": [
    "## No need to run again"
   ]
  },
  {
   "cell_type": "code",
   "execution_count": null,
   "metadata": {
    "pycharm": {
     "name": "#%%\n"
    }
   },
   "outputs": [],
   "source": [
    "filenames = os.listdir(\"data/cfp\")\n",
    "\n",
    "random.seed(42)\n",
    "random.shuffle(filenames)\n",
    "filenames[:10]"
   ]
  },
  {
   "cell_type": "code",
   "execution_count": null,
   "metadata": {
    "pycharm": {
     "name": "#%%\n"
    }
   },
   "outputs": [],
   "source": [
    "original_shuffled_map = {}\n",
    "\n",
    "for i in range(len(filenames)):\n",
    "    original_shuffled_map[filenames[i]] = f\"SHUF{str(i).zfill(5)}\"\n",
    "\n",
    "with open(\"original_shuffled_map.json\", \"w\") as fp:\n",
    "    json.dump(original_shuffled_map,fp) \n",
    "\n",
    "original_shuffled_map['DEV13781.jpg']"
   ]
  },
  {
   "cell_type": "markdown",
   "metadata": {
    "pycharm": {
     "name": "#%% md\n"
    }
   },
   "source": [
    "## Run this"
   ]
  },
  {
   "cell_type": "code",
   "execution_count": 2,
   "metadata": {},
   "outputs": [],
   "source": [
    "CUTOFF_THRESHOLD = 10\n",
    "OUT_PATH = f'data/shuffled_square_75'"
   ]
  },
  {
   "cell_type": "code",
   "execution_count": 3,
   "metadata": {
    "pycharm": {
     "name": "#%%\n"
    }
   },
   "outputs": [],
   "source": [
    "with open('original_shuffled_map.json') as fp:\n",
    "    original_shuffled_map = json.load(fp)"
   ]
  },
  {
   "cell_type": "code",
   "execution_count": 4,
   "metadata": {},
   "outputs": [],
   "source": [
    "if not os.path.isdir(OUT_PATH):\n",
    "    print(f'{OUT_PATH} does not exist, creating dir')\n",
    "    os.mkdir(OUT_PATH)"
   ]
  },
  {
   "cell_type": "code",
   "execution_count": 5,
   "metadata": {
    "pycharm": {
     "name": "#%%\n"
    }
   },
   "outputs": [],
   "source": [
    "from multiprocessing import Pool\n",
    "\n",
    "def _make_shuffled_square_img(filename):\n",
    "    try:\n",
    "        file = f\"data/cfp/{filename}\"\n",
    "        img = cv2.imread(file)\n",
    "        square_img, cutting, padding = make_square(img, CUTOFF_THRESHOLD)\n",
    "        new_name = original_shuffled_map[filename]\n",
    "        # cv2.imwrite(f\"{OUT_PATH}/{new_name}.jpg\", square_img, [int(cv2.IMWRITE_JPEG_QUALITY), 75])        \n",
    "        return (filename, new_name, cutting, padding, square_img.shape[0], img.shape)\n",
    "\n",
    "    except Exception as e:\n",
    "        print(filename, e)\n",
    "        \n",
    "        \n",
    "l_files = os.listdir(\"data/cfp\")"
   ]
  },
  {
   "cell_type": "code",
   "execution_count": 6,
   "metadata": {},
   "outputs": [
    {
     "data": {
      "application/vnd.jupyter.widget-view+json": {
       "model_id": "803b68e06cee4a7caf9ae7d907664513",
       "version_major": 2,
       "version_minor": 0
      },
      "text/plain": [
       "  0%|          | 0/15000 [00:00<?, ?it/s]"
      ]
     },
     "metadata": {},
     "output_type": "display_data"
    },
    {
     "name": "stdout",
     "output_type": "stream",
     "text": [
      "Finished.\n"
     ]
    }
   ],
   "source": [
    "with Pool() as pool:\n",
    "    op_metadata = list(tqdm(pool.imap(_make_shuffled_square_img, l_files), total=len(l_files)))    \n",
    "print('Finished.')"
   ]
  },
  {
   "cell_type": "code",
   "execution_count": null,
   "metadata": {
    "scrolled": true
   },
   "outputs": [],
   "source": [
    "op_metadata = []\n",
    "for filename in tqdm(l_files):\n",
    "    r = _make_shuffled_square_img(filename)\n",
    "    op_metadata.append(r)"
   ]
  },
  {
   "cell_type": "code",
   "execution_count": 7,
   "metadata": {},
   "outputs": [
    {
     "data": {
      "text/html": [
       "<div>\n",
       "<style scoped>\n",
       "    .dataframe tbody tr th:only-of-type {\n",
       "        vertical-align: middle;\n",
       "    }\n",
       "\n",
       "    .dataframe tbody tr th {\n",
       "        vertical-align: top;\n",
       "    }\n",
       "\n",
       "    .dataframe thead th {\n",
       "        text-align: right;\n",
       "    }\n",
       "</style>\n",
       "<table border=\"1\" class=\"dataframe\">\n",
       "  <thead>\n",
       "    <tr style=\"text-align: right;\">\n",
       "      <th></th>\n",
       "      <th>orig_file</th>\n",
       "      <th>new_file</th>\n",
       "      <th>delta_x</th>\n",
       "      <th>delta_y</th>\n",
       "      <th>orig_crop_side</th>\n",
       "      <th>side</th>\n",
       "      <th>scaling</th>\n",
       "    </tr>\n",
       "  </thead>\n",
       "  <tbody>\n",
       "    <tr>\n",
       "      <th>0</th>\n",
       "      <td>DEV01452.jpg</td>\n",
       "      <td>SHUF02915</td>\n",
       "      <td>-88</td>\n",
       "      <td>-904</td>\n",
       "      <td>3152</td>\n",
       "      <td>3152</td>\n",
       "      <td>1.0</td>\n",
       "    </tr>\n",
       "    <tr>\n",
       "      <th>1</th>\n",
       "      <td>DEV08405.jpg</td>\n",
       "      <td>SHUF04819</td>\n",
       "      <td>171</td>\n",
       "      <td>-144</td>\n",
       "      <td>2262</td>\n",
       "      <td>2262</td>\n",
       "      <td>1.0</td>\n",
       "    </tr>\n",
       "    <tr>\n",
       "      <th>2</th>\n",
       "      <td>DEV10680.jpg</td>\n",
       "      <td>SHUF00929</td>\n",
       "      <td>-138</td>\n",
       "      <td>-650</td>\n",
       "      <td>2797</td>\n",
       "      <td>2797</td>\n",
       "      <td>1.0</td>\n",
       "    </tr>\n",
       "    <tr>\n",
       "      <th>3</th>\n",
       "      <td>DEV13443.jpg</td>\n",
       "      <td>SHUF14397</td>\n",
       "      <td>168</td>\n",
       "      <td>-152</td>\n",
       "      <td>2256</td>\n",
       "      <td>2256</td>\n",
       "      <td>1.0</td>\n",
       "    </tr>\n",
       "    <tr>\n",
       "      <th>4</th>\n",
       "      <td>DEV08466.jpg</td>\n",
       "      <td>SHUF05169</td>\n",
       "      <td>195</td>\n",
       "      <td>-130</td>\n",
       "      <td>2334</td>\n",
       "      <td>2334</td>\n",
       "      <td>1.0</td>\n",
       "    </tr>\n",
       "    <tr>\n",
       "      <th>...</th>\n",
       "      <td>...</td>\n",
       "      <td>...</td>\n",
       "      <td>...</td>\n",
       "      <td>...</td>\n",
       "      <td>...</td>\n",
       "      <td>...</td>\n",
       "      <td>...</td>\n",
       "    </tr>\n",
       "    <tr>\n",
       "      <th>14995</th>\n",
       "      <td>DEV05006.jpg</td>\n",
       "      <td>SHUF00628</td>\n",
       "      <td>-34</td>\n",
       "      <td>-56</td>\n",
       "      <td>1871</td>\n",
       "      <td>1871</td>\n",
       "      <td>1.0</td>\n",
       "    </tr>\n",
       "    <tr>\n",
       "      <th>14996</th>\n",
       "      <td>DEV04121.jpg</td>\n",
       "      <td>SHUF09316</td>\n",
       "      <td>-131</td>\n",
       "      <td>-875</td>\n",
       "      <td>2974</td>\n",
       "      <td>2974</td>\n",
       "      <td>1.0</td>\n",
       "    </tr>\n",
       "    <tr>\n",
       "      <th>14997</th>\n",
       "      <td>DEV14861.jpg</td>\n",
       "      <td>SHUF04089</td>\n",
       "      <td>-91</td>\n",
       "      <td>-624</td>\n",
       "      <td>2193</td>\n",
       "      <td>2193</td>\n",
       "      <td>1.0</td>\n",
       "    </tr>\n",
       "    <tr>\n",
       "      <th>14998</th>\n",
       "      <td>DEV02406.jpg</td>\n",
       "      <td>SHUF09274</td>\n",
       "      <td>196</td>\n",
       "      <td>-128</td>\n",
       "      <td>2336</td>\n",
       "      <td>2336</td>\n",
       "      <td>1.0</td>\n",
       "    </tr>\n",
       "    <tr>\n",
       "      <th>14999</th>\n",
       "      <td>DEV04311.jpg</td>\n",
       "      <td>SHUF04995</td>\n",
       "      <td>196</td>\n",
       "      <td>-128</td>\n",
       "      <td>2336</td>\n",
       "      <td>2336</td>\n",
       "      <td>1.0</td>\n",
       "    </tr>\n",
       "  </tbody>\n",
       "</table>\n",
       "<p>15000 rows × 7 columns</p>\n",
       "</div>"
      ],
      "text/plain": [
       "          orig_file   new_file  delta_x  delta_y  orig_crop_side  side  \\\n",
       "0      DEV01452.jpg  SHUF02915      -88     -904            3152  3152   \n",
       "1      DEV08405.jpg  SHUF04819      171     -144            2262  2262   \n",
       "2      DEV10680.jpg  SHUF00929     -138     -650            2797  2797   \n",
       "3      DEV13443.jpg  SHUF14397      168     -152            2256  2256   \n",
       "4      DEV08466.jpg  SHUF05169      195     -130            2334  2334   \n",
       "...             ...        ...      ...      ...             ...   ...   \n",
       "14995  DEV05006.jpg  SHUF00628      -34      -56            1871  1871   \n",
       "14996  DEV04121.jpg  SHUF09316     -131     -875            2974  2974   \n",
       "14997  DEV14861.jpg  SHUF04089      -91     -624            2193  2193   \n",
       "14998  DEV02406.jpg  SHUF09274      196     -128            2336  2336   \n",
       "14999  DEV04311.jpg  SHUF04995      196     -128            2336  2336   \n",
       "\n",
       "       scaling  \n",
       "0          1.0  \n",
       "1          1.0  \n",
       "2          1.0  \n",
       "3          1.0  \n",
       "4          1.0  \n",
       "...        ...  \n",
       "14995      1.0  \n",
       "14996      1.0  \n",
       "14997      1.0  \n",
       "14998      1.0  \n",
       "14999      1.0  \n",
       "\n",
       "[15000 rows x 7 columns]"
      ]
     },
     "execution_count": 7,
     "metadata": {},
     "output_type": "execute_result"
    }
   ],
   "source": [
    "import pandas as pd\n",
    "\n",
    "df_img_info = pd.DataFrame.from_records([{\n",
    "        'orig_file' : opdata[0],\n",
    "        'new_file' : opdata[1],\n",
    "        'delta_x' : opdata[3][0] - opdata[2][0],\n",
    "        'delta_y' : opdata[3][2] - opdata[2][2],\n",
    "        'orig_crop_side' : opdata[4],\n",
    "        'side' : opdata[4],\n",
    "        'scaling' : 1.0,\n",
    "    } for opdata in op_metadata if opdata is not None])\n",
    "\n",
    "df_img_info.to_csv(os.path.join(OUT_PATH, 'img_info.csv'))\n",
    "df_img_info"
   ]
  },
  {
   "cell_type": "code",
   "execution_count": null,
   "metadata": {},
   "outputs": [],
   "source": []
  }
 ],
 "metadata": {
  "kernelspec": {
   "display_name": "Python 3 (ipykernel)",
   "language": "python",
   "name": "python3"
  },
  "language_info": {
   "codemirror_mode": {
    "name": "ipython",
    "version": 3
   },
   "file_extension": ".py",
   "mimetype": "text/x-python",
   "name": "python",
   "nbconvert_exporter": "python",
   "pygments_lexer": "ipython3",
   "version": "3.10.6"
  },
  "vscode": {
   "interpreter": {
    "hash": "57f342097538a94dce76f641226d5c17132434264349d7950426b24ea9e8926f"
   }
  }
 },
 "nbformat": 4,
 "nbformat_minor": 2
}
