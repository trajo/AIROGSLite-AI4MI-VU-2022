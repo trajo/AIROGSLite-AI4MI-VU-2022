{
 "cells": [
  {
   "cell_type": "code",
   "execution_count": null,
   "metadata": {},
   "outputs": [],
   "source": [
    "import os\n",
    "import cv2\n",
    "from src.preprocessing import make_square\n",
    "from tqdm.notebook import tqdm\n",
    "import random\n",
    "import json"
   ]
  },
  {
   "cell_type": "markdown",
   "metadata": {},
   "source": [
    "## No need to run again"
   ]
  },
  {
   "cell_type": "code",
   "execution_count": null,
   "metadata": {},
   "outputs": [],
   "source": [
    "filenames = os.listdir(\"data/cfp\")\n",
    "\n",
    "random.seed(42)\n",
    "random.shuffle(filenames)\n",
    "filenames[:10]"
   ]
  },
  {
   "cell_type": "code",
   "execution_count": null,
   "metadata": {},
   "outputs": [],
   "source": [
    "original_shuffled_map = {}\n",
    "\n",
    "for i in range(len(filenames)):\n",
    "    original_shuffled_map[filenames[i]] = f\"SHUF{str(i).zfill(5)}\"\n",
    "\n",
    "with open(\"original_shuffled_map.json\", \"w\") as fp:\n",
    "    json.dump(original_shuffled_map,fp) \n",
    "\n",
    "original_shuffled_map['DEV13781.jpg']"
   ]
  },
  {
   "cell_type": "markdown",
   "metadata": {},
   "source": [
    "## Run this"
   ]
  },
  {
   "cell_type": "code",
   "execution_count": null,
   "metadata": {},
   "outputs": [],
   "source": [
    "CUTOFF_THRESHOLD = 10\n",
    "OUT_PATH = f'data/shuffled_square_75'"
   ]
  },
  {
   "cell_type": "code",
   "execution_count": null,
   "metadata": {},
   "outputs": [],
   "source": [
    "with open('original_shuffled_map.json') as fp:\n",
    "    original_shuffled_map = json.load(fp)\n",
    "\n",
    "original_shuffled_map['DEV13781.jpg']"
   ]
  },
  {
   "cell_type": "code",
   "execution_count": null,
   "metadata": {},
   "outputs": [],
   "source": [
    "if not os.path.isdir(OUT_PATH):\n",
    "    print(f'{OUT_PATH} does not exist, creating dir')\n",
    "    os.mkdir(OUT_PATH)"
   ]
  },
  {
   "cell_type": "code",
   "execution_count": null,
   "metadata": {},
   "outputs": [],
   "source": [
    "from multiprocessing import Pool\n",
    "\n",
    "def _make_shuffled_square_img(filename):\n",
    "    try:\n",
    "        file = f\"data/cfp/{filename}\"\n",
    "        img = cv2.imread(file)\n",
    "        square_img, cutting, padding = make_square(img, CUTOFF_THRESHOLD)\n",
    "        new_name = original_shuffled_map[filename]\n",
    "        cv2.imwrite(f\"{OUT_PATH}/{new_name}.jpg\", square_img, [int(cv2.IMWRITE_JPEG_QUALITY), 75])\n",
    "        return (filename, new_name, cutting, padding, square_img.shape[0], img.shape)\n",
    "\n",
    "    except Exception as e:\n",
    "        print(filename, e)\n",
    "        \n",
    "        \n",
    "l_files = os.listdir(\"data/cfp\")"
   ]
  },
  {
   "cell_type": "code",
   "execution_count": null,
   "metadata": {},
   "outputs": [],
   "source": [
    "if True:\n",
    "    with Pool() as pool:\n",
    "        op_metadata = list(tqdm(pool.imap(_make_shuffled_square_img, l_files), total=len(l_files)))\n",
    "else:\n",
    "    op_metadata = []\n",
    "    for filename in tqdm(l_files):\n",
    "        r = _make_shuffled_square_img(filename)\n",
    "        op_metadata.append(r)\n",
    "\n",
    "print('Finished.')"
   ]
  },
  {
   "cell_type": "code",
   "execution_count": null,
   "metadata": {},
   "outputs": [],
   "source": [
    "import pandas as pd\n",
    "\n",
    "df_img_info = pd.DataFrame.from_records([{\n",
    "        'orig_file' : opdata[0],\n",
    "        'new_file' : opdata[1],\n",
    "        'delta_x' : opdata[3][0] - opdata[2][0],\n",
    "        'delta_y' : opdata[3][2] - opdata[2][2],\n",
    "        'orig_crop_side' : opdata[4],\n",
    "        'side' : opdata[4],\n",
    "        'scaling' : 1.0,\n",
    "    } for opdata in op_metadata if opdata is not None])\n",
    "\n",
    "df_img_info.sort_values(by='new_file', ascending=True).to_csv(os.path.join(OUT_PATH, 'img_info.csv'), index=False)\n",
    "df_img_info"
   ]
  },
  {
   "cell_type": "code",
   "execution_count": null,
   "outputs": [],
   "source": [],
   "metadata": {
    "collapsed": false
   }
  }
 ],
 "metadata": {
  "kernelspec": {
   "display_name": "Python 3 (ipykernel)",
   "language": "python",
   "name": "python3"
  },
  "language_info": {
   "codemirror_mode": {
    "name": "ipython",
    "version": 3
   },
   "file_extension": ".py",
   "mimetype": "text/x-python",
   "name": "python",
   "nbconvert_exporter": "python",
   "pygments_lexer": "ipython3",
   "version": "3.10.6"
  },
  "vscode": {
   "interpreter": {
    "hash": "57f342097538a94dce76f641226d5c17132434264349d7950426b24ea9e8926f"
   }
  }
 },
 "nbformat": 4,
 "nbformat_minor": 2
}
