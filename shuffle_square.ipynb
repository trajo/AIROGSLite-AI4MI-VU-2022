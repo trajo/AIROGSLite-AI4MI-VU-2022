{
 "cells": [
  {
   "cell_type": "code",
   "execution_count": 1,
   "metadata": {
    "pycharm": {
     "name": "#%%\n"
    }
   },
   "outputs": [],
   "source": [
    "import os\n",
    "import cv2\n",
    "from src.preprocessing import make_square\n",
    "from tqdm import tqdm\n",
    "import random\n",
    "import json"
   ]
  },
  {
   "cell_type": "markdown",
   "metadata": {
    "pycharm": {
     "name": "#%% md\n"
    }
   },
   "source": [
    "## No need to run again"
   ]
  },
  {
   "cell_type": "code",
   "execution_count": null,
   "metadata": {
    "pycharm": {
     "name": "#%%\n"
    }
   },
   "outputs": [],
   "source": [
    "filenames = os.listdir(\"data/cfp\")\n",
    "\n",
    "random.seed(42)\n",
    "random.shuffle(filenames)\n",
    "filenames[:10]"
   ]
  },
  {
   "cell_type": "code",
   "execution_count": null,
   "metadata": {
    "pycharm": {
     "name": "#%%\n"
    }
   },
   "outputs": [],
   "source": [
    "original_shuffled_map = {}\n",
    "\n",
    "for i in range(len(filenames)):\n",
    "    original_shuffled_map[filenames[i]] = f\"SHUF{str(i).zfill(5)}\"\n",
    "\n",
    "with open(\"original_shuffled_map.json\", \"w\") as fp:\n",
    "    json.dump(original_shuffled_map,fp) \n",
    "\n",
    "original_shuffled_map['DEV13781.jpg']"
   ]
  },
  {
   "cell_type": "markdown",
   "metadata": {
    "pycharm": {
     "name": "#%% md\n"
    }
   },
   "source": [
    "## Run this"
   ]
  },
  {
   "cell_type": "code",
   "execution_count": 2,
   "metadata": {
    "pycharm": {
     "name": "#%%\n"
    }
   },
   "outputs": [],
   "source": [
    "with open('original_shuffled_map.json') as fp:\n",
    "    original_shuffled_map = json.load(fp)"
   ]
  },
  {
   "cell_type": "code",
   "execution_count": 3,
   "metadata": {},
   "outputs": [],
   "source": [
    "OUT_PATH = 'data/shuffled_square_75'\n",
    "if not os.path.isdir(OUT_PATH):\n",
    "    print(f'{OUT_PATH} does not exist, creating dir')\n",
    "    os.mkdir(OUT_PATH)"
   ]
  },
  {
   "cell_type": "code",
   "execution_count": null,
   "metadata": {
    "pycharm": {
     "name": "#%%\n"
    }
   },
   "outputs": [],
   "source": [
    "from multiprocessing import Pool\n",
    "\n",
    "def _make_shuffled_square_img(filename):\n",
    "    try:\n",
    "        file = f\"data/cfp/{filename}\"\n",
    "        img = cv2.imread(file)\n",
    "        square_img = make_square(img)\n",
    "        new_name = original_shuffled_map[filename]\n",
    "        cv2.imwrite(f\"data/shuffled_square_75/{new_name}.jpg\", square_img, [int(cv2.IMWRITE_JPEG_QUALITY), 75])\n",
    "#         cv2.imwrite(f\"data/shuffled_square_png/{new_name}.png\", square_img, [\n",
    "#             int(cv2.IMWRITE_PNG_COMPRESSION), 9,\n",
    "#             #int(cv2.IMWRITE_PNG_STRATEGY), int(cv2.IMWRITE_PNG_STRATEGY_HUFFMAN_ONLY),\n",
    "#         ])\n",
    "\n",
    "    except Exception as e:\n",
    "        print(filename, e)\n",
    "        \n",
    "        \n",
    "l_files = os.listdir(\"data/cfp\")\n",
    "with Pool() as pool:\n",
    "    r = list(tqdm(pool.imap(_make_shuffled_square_img, l_files)))\n",
    "    \n",
    "print('Finished.')\n"
   ]
  }
 ],
 "metadata": {
  "kernelspec": {
   "display_name": "Python 3 (ipykernel)",
   "language": "python",
   "name": "python3"
  },
  "language_info": {
   "codemirror_mode": {
    "name": "ipython",
    "version": 3
   },
   "file_extension": ".py",
   "mimetype": "text/x-python",
   "name": "python",
   "nbconvert_exporter": "python",
   "pygments_lexer": "ipython3",
   "version": "3.10.6"
  },
  "vscode": {
   "interpreter": {
    "hash": "57f342097538a94dce76f641226d5c17132434264349d7950426b24ea9e8926f"
   }
  }
 },
 "nbformat": 4,
 "nbformat_minor": 2
}
