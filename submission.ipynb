{
 "cells": [
  {
   "cell_type": "code",
   "execution_count": 1,
   "outputs": [],
   "source": [
    "import os\n",
    "import pandas as pd"
   ],
   "metadata": {
    "collapsed": false
   }
  },
  {
   "cell_type": "code",
   "execution_count": 2,
   "metadata": {
    "collapsed": true
   },
   "outputs": [
    {
     "data": {
      "text/plain": "['submission_predictions_hb3cfb583ad03be38_s300_f2.csv',\n 'submission_predictions_hb3cfb583ad03be38_s200_f1.csv',\n 'submission_predictions_hb3cfb583ad03be38_s100_f0.csv',\n 'submission_predictions_hb3cfb583ad03be38_s500_f4.csv',\n 'submission_predictions_hb3cfb583ad03be38_s400_f3.csv']"
     },
     "execution_count": 2,
     "metadata": {},
     "output_type": "execute_result"
    }
   ],
   "source": [
    "EXP_DIR = './exp_baseline_submission'\n",
    "EXPERIMENT_NAME = 'hb3cfb583ad03be38'\n",
    "SUBM_DATA_DIR = './data/subm_cfp'\n",
    "\n",
    "submission_prediction_fnames = [fn for fn in os.listdir(EXP_DIR) if fn.startswith('submission_predictions_')]\n",
    "submission_prediction_fnames"
   ]
  },
  {
   "cell_type": "code",
   "execution_count": 3,
   "outputs": [
    {
     "data": {
      "text/plain": "['TEST08525.jpg',\n 'TEST03423.jpg',\n 'TEST06866.jpg',\n 'TEST08419.jpg',\n 'TEST08187.jpg',\n 'TEST07609.jpg',\n 'TEST09218.jpg',\n 'TEST06561.jpg',\n 'TEST01442.jpg',\n 'TEST01277.jpg',\n 'TEST00539.jpg',\n 'TEST07485.jpg',\n 'TEST04131.jpg',\n 'TEST08502.jpg',\n 'TEST02167.jpg',\n 'TEST07887.jpg',\n 'TEST04623.jpg',\n 'TEST02831.jpg',\n 'TEST04988.jpg',\n 'TEST05727.jpg',\n 'TEST00563.jpg',\n 'TEST04601.jpg',\n 'TEST00201.jpg',\n 'TEST04372.jpg',\n 'TEST02157.jpg',\n 'TEST08476.jpg',\n 'TEST03379.jpg',\n 'TEST09149.jpg',\n 'TEST01624.jpg',\n 'TEST00497.jpg',\n 'TEST06499.jpg',\n 'TEST02630.jpg',\n 'TEST09126.jpg',\n 'TEST09511.jpg',\n 'TEST09050.jpg',\n 'TEST01674.jpg',\n 'TEST09971.jpg',\n 'TEST07541.jpg',\n 'TEST07851.jpg',\n 'TEST05220.jpg',\n 'TEST06666.jpg',\n 'TEST00155.jpg',\n 'TEST07289.jpg',\n 'TEST09838.jpg',\n 'TEST01016.jpg',\n 'TEST09592.jpg',\n 'TEST07191.jpg',\n 'TEST06076.jpg',\n 'TEST04206.jpg',\n 'TEST06765.jpg',\n 'TEST00420.jpg',\n 'TEST02824.jpg',\n 'TEST04002.jpg',\n 'TEST08485.jpg',\n 'TEST09864.jpg',\n 'TEST03196.jpg',\n 'TEST02866.jpg',\n 'TEST04922.jpg',\n 'TEST04371.jpg',\n 'TEST05268.jpg',\n 'TEST05384.jpg',\n 'TEST01182.jpg',\n 'TEST03160.jpg',\n 'TEST08020.jpg',\n 'TEST09213.jpg',\n 'TEST03511.jpg',\n 'TEST04380.jpg',\n 'TEST05232.jpg',\n 'TEST04119.jpg',\n 'TEST04435.jpg',\n 'TEST01026.jpg',\n 'TEST08401.jpg',\n 'TEST05862.jpg',\n 'TEST01390.jpg',\n 'TEST08203.jpg',\n 'TEST06815.jpg',\n 'TEST03065.jpg',\n 'TEST04367.jpg',\n 'TEST00945.jpg',\n 'TEST03771.jpg',\n 'TEST03727.jpg',\n 'TEST00947.jpg',\n 'TEST00485.jpg',\n 'TEST08024.jpg',\n 'TEST09532.jpg',\n 'TEST06851.jpg',\n 'TEST02161.jpg',\n 'TEST05942.jpg',\n 'TEST07750.jpg',\n 'TEST03880.jpg',\n 'TEST05246.jpg',\n 'TEST00575.jpg',\n 'TEST06309.jpg',\n 'TEST09496.jpg',\n 'TEST03999.jpg',\n 'TEST00737.jpg',\n 'TEST00207.jpg',\n 'TEST09140.jpg',\n 'TEST06599.jpg',\n 'TEST01568.jpg',\n 'TEST04556.jpg',\n 'TEST03970.jpg',\n 'TEST02099.jpg',\n 'TEST01920.jpg',\n 'TEST05471.jpg',\n 'TEST01546.jpg',\n 'TEST05459.jpg',\n 'TEST01487.jpg',\n 'TEST04904.jpg',\n 'TEST08695.jpg',\n 'TEST06891.jpg',\n 'TEST02697.jpg',\n 'TEST05628.jpg',\n 'TEST05423.jpg',\n 'TEST05100.jpg',\n 'TEST05090.jpg',\n 'TEST05439.jpg',\n 'TEST04638.jpg',\n 'TEST01235.jpg',\n 'TEST03057.jpg',\n 'TEST08696.jpg',\n 'TEST05228.jpg',\n 'TEST04778.jpg',\n 'TEST05101.jpg',\n 'TEST09856.jpg',\n 'TEST05924.jpg',\n 'TEST06246.jpg',\n 'TEST06164.jpg',\n 'TEST06423.jpg',\n 'TEST02931.jpg',\n 'TEST00505.jpg',\n 'TEST05436.jpg',\n 'TEST05404.jpg',\n 'TEST01402.jpg',\n 'TEST03415.jpg',\n 'TEST06337.jpg',\n 'TEST05620.jpg',\n 'TEST08656.jpg',\n 'TEST00154.jpg',\n 'TEST00102.jpg',\n 'TEST05522.jpg',\n 'TEST07353.jpg',\n 'TEST01525.jpg',\n 'TEST09846.jpg',\n 'TEST06550.jpg',\n 'TEST00017.jpg',\n 'TEST04074.jpg',\n 'TEST07474.jpg',\n 'TEST05046.jpg',\n 'TEST01004.jpg',\n 'TEST03510.jpg',\n 'TEST07842.jpg',\n 'TEST06747.jpg',\n 'TEST05367.jpg',\n 'TEST04856.jpg',\n 'TEST02984.jpg',\n 'TEST04324.jpg',\n 'TEST06244.jpg',\n 'TEST05334.jpg',\n 'TEST05173.jpg',\n 'TEST03378.jpg',\n 'TEST01501.jpg',\n 'TEST02364.jpg',\n 'TEST07800.jpg',\n 'TEST05948.jpg',\n 'TEST03386.jpg',\n 'TEST06944.jpg',\n 'TEST05300.jpg',\n 'TEST09703.jpg',\n 'TEST00288.jpg',\n 'TEST09730.jpg',\n 'TEST06909.jpg',\n 'TEST02903.jpg',\n 'TEST02688.jpg',\n 'TEST07344.jpg',\n 'TEST09319.jpg',\n 'TEST00517.jpg',\n 'TEST00800.jpg',\n 'TEST00775.jpg',\n 'TEST02875.jpg',\n 'TEST07553.jpg',\n 'TEST01493.jpg',\n 'TEST00290.jpg',\n 'TEST08592.jpg',\n 'TEST00679.jpg',\n 'TEST08536.jpg',\n 'TEST08097.jpg',\n 'TEST04072.jpg',\n 'TEST04986.jpg',\n 'TEST05190.jpg',\n 'TEST07648.jpg',\n 'TEST04022.jpg',\n 'TEST00579.jpg',\n 'TEST03557.jpg',\n 'TEST08099.jpg',\n 'TEST09944.jpg',\n 'TEST03048.jpg',\n 'TEST06512.jpg',\n 'TEST00158.jpg',\n 'TEST03564.jpg',\n 'TEST06901.jpg',\n 'TEST08168.jpg',\n 'TEST07429.jpg',\n 'TEST05409.jpg',\n 'TEST06223.jpg',\n 'TEST09246.jpg',\n 'TEST03859.jpg',\n 'TEST06451.jpg',\n 'TEST06615.jpg',\n 'TEST00674.jpg',\n 'TEST02729.jpg',\n 'TEST01554.jpg',\n 'TEST06229.jpg',\n 'TEST09253.jpg',\n 'TEST03142.jpg',\n 'TEST08979.jpg',\n 'TEST07857.jpg',\n 'TEST02808.jpg',\n 'TEST01050.jpg',\n 'TEST09775.jpg',\n 'TEST09471.jpg',\n 'TEST03079.jpg',\n 'TEST04542.jpg',\n 'TEST01315.jpg',\n 'TEST07585.jpg',\n 'TEST01068.jpg',\n 'TEST04376.jpg',\n 'TEST09548.jpg',\n 'TEST01984.jpg',\n 'TEST09936.jpg',\n 'TEST06556.jpg',\n 'TEST09312.jpg',\n 'TEST04149.jpg',\n 'TEST00036.jpg',\n 'TEST08710.jpg',\n 'TEST01255.jpg',\n 'TEST08384.jpg',\n 'TEST05499.jpg',\n 'TEST04603.jpg',\n 'TEST06616.jpg',\n 'TEST09564.jpg',\n 'TEST02393.jpg',\n 'TEST00060.jpg',\n 'TEST08090.jpg',\n 'TEST01116.jpg',\n 'TEST04819.jpg',\n 'TEST03231.jpg',\n 'TEST00741.jpg',\n 'TEST01301.jpg',\n 'TEST03255.jpg',\n 'TEST08007.jpg',\n 'TEST03784.jpg',\n 'TEST01238.jpg',\n 'TEST07172.jpg',\n 'TEST01143.jpg',\n 'TEST05538.jpg',\n 'TEST08904.jpg',\n 'TEST06101.jpg',\n 'TEST04616.jpg',\n 'TEST03173.jpg',\n 'TEST04645.jpg',\n 'TEST07491.jpg',\n 'TEST09242.jpg',\n 'TEST02011.jpg',\n 'TEST07694.jpg',\n 'TEST02966.jpg',\n 'TEST02611.jpg',\n 'TEST09336.jpg',\n 'TEST00702.jpg',\n 'TEST00559.jpg',\n 'TEST02303.jpg',\n 'TEST03179.jpg',\n 'TEST08353.jpg',\n 'TEST09538.jpg',\n 'TEST00684.jpg',\n 'TEST05490.jpg',\n 'TEST07204.jpg',\n 'TEST08802.jpg',\n 'TEST05745.jpg',\n 'TEST06999.jpg',\n 'TEST04482.jpg',\n 'TEST06541.jpg',\n 'TEST05638.jpg',\n 'TEST08842.jpg',\n 'TEST07948.jpg',\n 'TEST07688.jpg',\n 'TEST05244.jpg',\n 'TEST07390.jpg',\n 'TEST02993.jpg',\n 'TEST03388.jpg',\n 'TEST03649.jpg',\n 'TEST04486.jpg',\n 'TEST02724.jpg',\n 'TEST02266.jpg',\n 'TEST03082.jpg',\n 'TEST03269.jpg',\n 'TEST01644.jpg',\n 'TEST00267.jpg',\n 'TEST00867.jpg',\n 'TEST02569.jpg',\n 'TEST00858.jpg',\n 'TEST03372.jpg',\n 'TEST01169.jpg',\n 'TEST05349.jpg',\n 'TEST09956.jpg',\n 'TEST01027.jpg',\n 'TEST04174.jpg',\n 'TEST01993.jpg',\n 'TEST02386.jpg',\n 'TEST07246.jpg',\n 'TEST09896.jpg',\n 'TEST02902.jpg',\n 'TEST04966.jpg',\n 'TEST04381.jpg',\n 'TEST07239.jpg',\n 'TEST09769.jpg',\n 'TEST06383.jpg',\n 'TEST05514.jpg',\n 'TEST01031.jpg',\n 'TEST05136.jpg',\n 'TEST09470.jpg',\n 'TEST09343.jpg',\n 'TEST04685.jpg',\n 'TEST04901.jpg',\n 'TEST03468.jpg',\n 'TEST04108.jpg',\n 'TEST07361.jpg',\n 'TEST08447.jpg',\n 'TEST03810.jpg',\n 'TEST08825.jpg',\n 'TEST04502.jpg',\n 'TEST05427.jpg',\n 'TEST00574.jpg',\n 'TEST08362.jpg',\n 'TEST09505.jpg',\n 'TEST02263.jpg',\n 'TEST01017.jpg',\n 'TEST06327.jpg',\n 'TEST01977.jpg',\n 'TEST09181.jpg',\n 'TEST05691.jpg',\n 'TEST07376.jpg',\n 'TEST04165.jpg',\n 'TEST05945.jpg',\n 'TEST09114.jpg',\n 'TEST09531.jpg',\n 'TEST09021.jpg',\n 'TEST03531.jpg',\n 'TEST09345.jpg',\n 'TEST04517.jpg',\n 'TEST03546.jpg',\n 'TEST01745.jpg',\n 'TEST09304.jpg',\n 'TEST09616.jpg',\n 'TEST08926.jpg',\n 'TEST06074.jpg',\n 'TEST03393.jpg',\n 'TEST04663.jpg',\n 'TEST03589.jpg',\n 'TEST09365.jpg',\n 'TEST01131.jpg',\n 'TEST03700.jpg',\n 'TEST02655.jpg',\n 'TEST01258.jpg',\n 'TEST06742.jpg',\n 'TEST05533.jpg',\n 'TEST00942.jpg',\n 'TEST02217.jpg',\n 'TEST06798.jpg',\n 'TEST05493.jpg',\n 'TEST05566.jpg',\n 'TEST04005.jpg',\n 'TEST03657.jpg',\n 'TEST02250.jpg',\n 'TEST02994.jpg',\n 'TEST05990.jpg',\n 'TEST03113.jpg',\n 'TEST05817.jpg',\n 'TEST05777.jpg',\n 'TEST06125.jpg',\n 'TEST00915.jpg',\n 'TEST09371.jpg',\n 'TEST05212.jpg',\n 'TEST00070.jpg',\n 'TEST05139.jpg',\n 'TEST09413.jpg',\n 'TEST06934.jpg',\n 'TEST04874.jpg',\n 'TEST03601.jpg',\n 'TEST07259.jpg',\n 'TEST01415.jpg',\n 'TEST03262.jpg',\n 'TEST09491.jpg',\n 'TEST02181.jpg',\n 'TEST09083.jpg',\n 'TEST03392.jpg',\n 'TEST08354.jpg',\n 'TEST08914.jpg',\n 'TEST02085.jpg',\n 'TEST01559.jpg',\n 'TEST07559.jpg',\n 'TEST00445.jpg',\n 'TEST02130.jpg',\n 'TEST03264.jpg',\n 'TEST03164.jpg',\n 'TEST00568.jpg',\n 'TEST05894.jpg',\n 'TEST03816.jpg',\n 'TEST07826.jpg',\n 'TEST06298.jpg',\n 'TEST05564.jpg',\n 'TEST01690.jpg',\n 'TEST02773.jpg',\n 'TEST00382.jpg',\n 'TEST03352.jpg',\n 'TEST04427.jpg',\n 'TEST08149.jpg',\n 'TEST07166.jpg',\n 'TEST03593.jpg',\n 'TEST00553.jpg',\n 'TEST03521.jpg',\n 'TEST03181.jpg',\n 'TEST05373.jpg',\n 'TEST04931.jpg',\n 'TEST08735.jpg',\n 'TEST02830.jpg',\n 'TEST04092.jpg',\n 'TEST00357.jpg',\n 'TEST03973.jpg',\n 'TEST05856.jpg',\n 'TEST09229.jpg',\n 'TEST09187.jpg',\n 'TEST05767.jpg',\n 'TEST09055.jpg',\n 'TEST08284.jpg',\n 'TEST03507.jpg',\n 'TEST07754.jpg',\n 'TEST09182.jpg',\n 'TEST04178.jpg',\n 'TEST00495.jpg',\n 'TEST05953.jpg',\n 'TEST02934.jpg',\n 'TEST08830.jpg',\n 'TEST08676.jpg',\n 'TEST09109.jpg',\n 'TEST07167.jpg',\n 'TEST09789.jpg',\n 'TEST02686.jpg',\n 'TEST04071.jpg',\n 'TEST00303.jpg',\n 'TEST09696.jpg',\n 'TEST04804.jpg',\n 'TEST06910.jpg',\n 'TEST07067.jpg',\n 'TEST06498.jpg',\n 'TEST02732.jpg',\n 'TEST02692.jpg',\n 'TEST01651.jpg',\n 'TEST08933.jpg',\n 'TEST07379.jpg',\n 'TEST04015.jpg',\n 'TEST04439.jpg',\n 'TEST03395.jpg',\n 'TEST04318.jpg',\n 'TEST06175.jpg',\n 'TEST02585.jpg',\n 'TEST07627.jpg',\n 'TEST04425.jpg',\n 'TEST02737.jpg',\n 'TEST03689.jpg',\n 'TEST02960.jpg',\n 'TEST00780.jpg',\n 'TEST09990.jpg',\n 'TEST01853.jpg',\n 'TEST02953.jpg',\n 'TEST05272.jpg',\n 'TEST02005.jpg',\n 'TEST03877.jpg',\n 'TEST08462.jpg',\n 'TEST04703.jpg',\n 'TEST03888.jpg',\n 'TEST07876.jpg',\n 'TEST03375.jpg',\n 'TEST00531.jpg',\n 'TEST07985.jpg',\n 'TEST07802.jpg',\n 'TEST07181.jpg',\n 'TEST00768.jpg',\n 'TEST05033.jpg',\n 'TEST08531.jpg',\n 'TEST04326.jpg',\n 'TEST06107.jpg',\n 'TEST05013.jpg',\n 'TEST08297.jpg',\n 'TEST05111.jpg',\n 'TEST09952.jpg',\n 'TEST06897.jpg',\n 'TEST03924.jpg',\n 'TEST01897.jpg',\n 'TEST02852.jpg',\n 'TEST00391.jpg',\n 'TEST09451.jpg',\n 'TEST01035.jpg',\n 'TEST08905.jpg',\n 'TEST01484.jpg',\n 'TEST08366.jpg',\n 'TEST05312.jpg',\n 'TEST04545.jpg',\n 'TEST07435.jpg',\n 'TEST08031.jpg',\n 'TEST06359.jpg',\n 'TEST01804.jpg',\n 'TEST05372.jpg',\n 'TEST00825.jpg',\n 'TEST07447.jpg',\n 'TEST06820.jpg',\n 'TEST09879.jpg',\n 'TEST05822.jpg',\n 'TEST08439.jpg',\n 'TEST05888.jpg',\n 'TEST07517.jpg',\n 'TEST03190.jpg',\n 'TEST04210.jpg',\n 'TEST09189.jpg',\n 'TEST02337.jpg',\n 'TEST03739.jpg',\n 'TEST09926.jpg',\n 'TEST07057.jpg',\n 'TEST01863.jpg',\n 'TEST08035.jpg',\n 'TEST07713.jpg',\n 'TEST08665.jpg',\n 'TEST08499.jpg',\n 'TEST00027.jpg',\n 'TEST07115.jpg',\n 'TEST03940.jpg',\n 'TEST00452.jpg',\n 'TEST00418.jpg',\n 'TEST05119.jpg',\n 'TEST00433.jpg',\n 'TEST02562.jpg',\n 'TEST03198.jpg',\n 'TEST07885.jpg',\n 'TEST01137.jpg',\n 'TEST00934.jpg',\n 'TEST08551.jpg',\n 'TEST01576.jpg',\n 'TEST07562.jpg',\n 'TEST02253.jpg',\n 'TEST01902.jpg',\n 'TEST05408.jpg',\n 'TEST09026.jpg',\n 'TEST09800.jpg',\n 'TEST09177.jpg',\n 'TEST02575.jpg',\n 'TEST03226.jpg',\n 'TEST01561.jpg',\n 'TEST05951.jpg',\n 'TEST06537.jpg',\n 'TEST04176.jpg',\n 'TEST07628.jpg',\n 'TEST08513.jpg',\n 'TEST09009.jpg',\n 'TEST08845.jpg',\n 'TEST05271.jpg',\n 'TEST05301.jpg',\n 'TEST08969.jpg',\n 'TEST05616.jpg',\n 'TEST03855.jpg',\n 'TEST02957.jpg',\n 'TEST07290.jpg',\n 'TEST03682.jpg',\n 'TEST07797.jpg',\n 'TEST00757.jpg',\n 'TEST06634.jpg',\n 'TEST01650.jpg',\n 'TEST02629.jpg',\n 'TEST09774.jpg',\n 'TEST02579.jpg',\n 'TEST00926.jpg',\n 'TEST05937.jpg',\n 'TEST01433.jpg',\n 'TEST00399.jpg',\n 'TEST01633.jpg',\n 'TEST06665.jpg',\n 'TEST00732.jpg',\n 'TEST06322.jpg',\n 'TEST06786.jpg',\n 'TEST04696.jpg',\n 'TEST05122.jpg',\n 'TEST08465.jpg',\n 'TEST02126.jpg',\n 'TEST09236.jpg',\n 'TEST01337.jpg',\n 'TEST04283.jpg',\n 'TEST09579.jpg',\n 'TEST03662.jpg',\n 'TEST05147.jpg',\n 'TEST00636.jpg',\n 'TEST01485.jpg',\n 'TEST01778.jpg',\n 'TEST09950.jpg',\n 'TEST00019.jpg',\n 'TEST07982.jpg',\n 'TEST06165.jpg',\n 'TEST03861.jpg',\n 'TEST06108.jpg',\n 'TEST07432.jpg',\n 'TEST07894.jpg',\n 'TEST00195.jpg',\n 'TEST08811.jpg',\n 'TEST00339.jpg',\n 'TEST07263.jpg',\n 'TEST07487.jpg',\n 'TEST01577.jpg',\n 'TEST04825.jpg',\n 'TEST05599.jpg',\n 'TEST08918.jpg',\n 'TEST08235.jpg',\n 'TEST03946.jpg',\n 'TEST01270.jpg',\n 'TEST01206.jpg',\n 'TEST09282.jpg',\n 'TEST08463.jpg',\n 'TEST09695.jpg',\n 'TEST01847.jpg',\n 'TEST09867.jpg',\n 'TEST05203.jpg',\n 'TEST00789.jpg',\n 'TEST00177.jpg',\n 'TEST00511.jpg',\n 'TEST01220.jpg',\n 'TEST04873.jpg',\n 'TEST04023.jpg',\n 'TEST07626.jpg',\n 'TEST07105.jpg',\n 'TEST05537.jpg',\n 'TEST08496.jpg',\n 'TEST08004.jpg',\n 'TEST03472.jpg',\n 'TEST08425.jpg',\n 'TEST06222.jpg',\n 'TEST08929.jpg',\n 'TEST01740.jpg',\n 'TEST08707.jpg',\n 'TEST06065.jpg',\n 'TEST08901.jpg',\n 'TEST02055.jpg',\n 'TEST03754.jpg',\n 'TEST03942.jpg',\n 'TEST06987.jpg',\n 'TEST03586.jpg',\n 'TEST08022.jpg',\n 'TEST00941.jpg',\n 'TEST05898.jpg',\n 'TEST05524.jpg',\n 'TEST04398.jpg',\n 'TEST04294.jpg',\n 'TEST01129.jpg',\n 'TEST09961.jpg',\n 'TEST05099.jpg',\n 'TEST01167.jpg',\n 'TEST02590.jpg',\n 'TEST03783.jpg',\n 'TEST03232.jpg',\n 'TEST06083.jpg',\n 'TEST06436.jpg',\n 'TEST05388.jpg',\n 'TEST05882.jpg',\n 'TEST01382.jpg',\n 'TEST04942.jpg',\n 'TEST06350.jpg',\n 'TEST01097.jpg',\n 'TEST00839.jpg',\n 'TEST02538.jpg',\n 'TEST04231.jpg',\n 'TEST06657.jpg',\n 'TEST01207.jpg',\n 'TEST04314.jpg',\n 'TEST04368.jpg',\n 'TEST00596.jpg',\n 'TEST04831.jpg',\n 'TEST09622.jpg',\n 'TEST01011.jpg',\n 'TEST01505.jpg',\n 'TEST08387.jpg',\n 'TEST06836.jpg',\n 'TEST09235.jpg',\n 'TEST05098.jpg',\n 'TEST08756.jpg',\n 'TEST03485.jpg',\n 'TEST00669.jpg',\n 'TEST02709.jpg',\n 'TEST06827.jpg',\n 'TEST09183.jpg',\n 'TEST08679.jpg',\n 'TEST07340.jpg',\n 'TEST00365.jpg',\n 'TEST05892.jpg',\n 'TEST06913.jpg',\n 'TEST01742.jpg',\n 'TEST09002.jpg',\n 'TEST02120.jpg',\n 'TEST07322.jpg',\n 'TEST00268.jpg',\n 'TEST05008.jpg',\n 'TEST08552.jpg',\n 'TEST03710.jpg',\n 'TEST02381.jpg',\n 'TEST09133.jpg',\n 'TEST05323.jpg',\n 'TEST06457.jpg',\n 'TEST01064.jpg',\n 'TEST09325.jpg',\n 'TEST08361.jpg',\n 'TEST02783.jpg',\n 'TEST03590.jpg',\n 'TEST00189.jpg',\n 'TEST07037.jpg',\n 'TEST07893.jpg',\n 'TEST02344.jpg',\n 'TEST05430.jpg',\n 'TEST01864.jpg',\n 'TEST08583.jpg',\n 'TEST04504.jpg',\n 'TEST00982.jpg',\n 'TEST09173.jpg',\n 'TEST04360.jpg',\n 'TEST03368.jpg',\n 'TEST09573.jpg',\n 'TEST03056.jpg',\n 'TEST06417.jpg',\n 'TEST01694.jpg',\n 'TEST08725.jpg',\n 'TEST08262.jpg',\n 'TEST08051.jpg',\n 'TEST01228.jpg',\n 'TEST07747.jpg',\n 'TEST09739.jpg',\n 'TEST03621.jpg',\n 'TEST03133.jpg',\n 'TEST04849.jpg',\n 'TEST02170.jpg',\n 'TEST03450.jpg',\n 'TEST01555.jpg',\n 'TEST08565.jpg',\n 'TEST00491.jpg',\n 'TEST09076.jpg',\n 'TEST06216.jpg',\n 'TEST04148.jpg',\n 'TEST06375.jpg',\n 'TEST01981.jpg',\n 'TEST05669.jpg',\n 'TEST01508.jpg',\n 'TEST00143.jpg',\n 'TEST04898.jpg',\n 'TEST04103.jpg',\n 'TEST05105.jpg',\n 'TEST07544.jpg',\n 'TEST06029.jpg',\n 'TEST08125.jpg',\n 'TEST02441.jpg',\n 'TEST08277.jpg',\n 'TEST09803.jpg',\n 'TEST03680.jpg',\n 'TEST02518.jpg',\n 'TEST08975.jpg',\n 'TEST00844.jpg',\n 'TEST00502.jpg',\n 'TEST03275.jpg',\n 'TEST04981.jpg',\n 'TEST06064.jpg',\n 'TEST06771.jpg',\n 'TEST06043.jpg',\n 'TEST08001.jpg',\n 'TEST03327.jpg',\n 'TEST09741.jpg',\n 'TEST07719.jpg',\n 'TEST07650.jpg',\n 'TEST08224.jpg',\n 'TEST02958.jpg',\n 'TEST05866.jpg',\n 'TEST04362.jpg',\n 'TEST02797.jpg',\n 'TEST09339.jpg',\n 'TEST06912.jpg',\n 'TEST05424.jpg',\n 'TEST02444.jpg',\n 'TEST08029.jpg',\n 'TEST01563.jpg',\n 'TEST03118.jpg',\n 'TEST06611.jpg',\n 'TEST05331.jpg',\n 'TEST03971.jpg',\n 'TEST07018.jpg',\n 'TEST00461.jpg',\n 'TEST04574.jpg',\n 'TEST07736.jpg',\n 'TEST02715.jpg',\n 'TEST02498.jpg',\n 'TEST03549.jpg',\n 'TEST08171.jpg',\n 'TEST00969.jpg',\n 'TEST04433.jpg',\n 'TEST01067.jpg',\n 'TEST01608.jpg',\n 'TEST02036.jpg',\n 'TEST05585.jpg',\n 'TEST05606.jpg',\n 'TEST08170.jpg',\n 'TEST07954.jpg',\n 'TEST09070.jpg',\n 'TEST04693.jpg',\n 'TEST08956.jpg',\n 'TEST01795.jpg',\n 'TEST04591.jpg',\n 'TEST07872.jpg',\n 'TEST03405.jpg',\n 'TEST06566.jpg',\n 'TEST05529.jpg',\n 'TEST05015.jpg',\n 'TEST08196.jpg',\n 'TEST08859.jpg',\n 'TEST01773.jpg',\n 'TEST00509.jpg',\n 'TEST08986.jpg',\n 'TEST07202.jpg',\n 'TEST09707.jpg',\n 'TEST00670.jpg',\n 'TEST05729.jpg',\n 'TEST03491.jpg',\n 'TEST04796.jpg',\n 'TEST02672.jpg',\n 'TEST06343.jpg',\n 'TEST02983.jpg',\n 'TEST09992.jpg',\n 'TEST08910.jpg',\n 'TEST02195.jpg',\n 'TEST01306.jpg',\n 'TEST02202.jpg',\n 'TEST08397.jpg',\n 'TEST05336.jpg',\n 'TEST07782.jpg',\n 'TEST04305.jpg',\n 'TEST04214.jpg',\n 'TEST01607.jpg',\n 'TEST08027.jpg',\n 'TEST00206.jpg',\n 'TEST00427.jpg',\n 'TEST03040.jpg',\n 'TEST09279.jpg',\n 'TEST02310.jpg',\n 'TEST01880.jpg',\n 'TEST01065.jpg',\n 'TEST09052.jpg',\n 'TEST01317.jpg',\n 'TEST06564.jpg',\n 'TEST06272.jpg',\n 'TEST03554.jpg',\n 'TEST08314.jpg',\n 'TEST02081.jpg',\n 'TEST00254.jpg',\n 'TEST09214.jpg',\n 'TEST02753.jpg',\n 'TEST09465.jpg',\n 'TEST01712.jpg',\n 'TEST00342.jpg',\n 'TEST09032.jpg',\n 'TEST09683.jpg',\n 'TEST06968.jpg',\n 'TEST02404.jpg',\n 'TEST02623.jpg',\n 'TEST02021.jpg',\n 'TEST06951.jpg',\n 'TEST05208.jpg',\n 'TEST00519.jpg',\n 'TEST09885.jpg',\n 'TEST02548.jpg',\n 'TEST06808.jpg',\n 'TEST05701.jpg',\n 'TEST07683.jpg',\n 'TEST03537.jpg',\n 'TEST07834.jpg',\n 'TEST06080.jpg',\n 'TEST00157.jpg',\n 'TEST05413.jpg',\n 'TEST06610.jpg',\n 'TEST00411.jpg',\n 'TEST05489.jpg',\n 'TEST03570.jpg',\n 'TEST05455.jpg',\n 'TEST05839.jpg',\n 'TEST05541.jpg',\n 'TEST07463.jpg',\n 'TEST08893.jpg',\n 'TEST07011.jpg',\n 'TEST01912.jpg',\n 'TEST02936.jpg',\n 'TEST05932.jpg',\n 'TEST04675.jpg',\n 'TEST01358.jpg',\n 'TEST07588.jpg',\n 'TEST07121.jpg',\n 'TEST03974.jpg',\n 'TEST00041.jpg',\n 'TEST02687.jpg',\n 'TEST07150.jpg',\n 'TEST09609.jpg',\n 'TEST06872.jpg',\n 'TEST03406.jpg',\n 'TEST01582.jpg',\n 'TEST08237.jpg',\n 'TEST02535.jpg',\n 'TEST04921.jpg',\n 'TEST06380.jpg',\n 'TEST01232.jpg',\n 'TEST00109.jpg',\n 'TEST06517.jpg',\n 'TEST05320.jpg',\n 'TEST08346.jpg',\n 'TEST03876.jpg',\n 'TEST07226.jpg',\n 'TEST05634.jpg',\n 'TEST04925.jpg',\n 'TEST08105.jpg',\n 'TEST05576.jpg',\n 'TEST00507.jpg',\n 'TEST02613.jpg',\n 'TEST06926.jpg',\n 'TEST00442.jpg',\n 'TEST05229.jpg',\n 'TEST08615.jpg',\n 'TEST07660.jpg',\n 'TEST02888.jpg',\n 'TEST05926.jpg',\n 'TEST06952.jpg',\n 'TEST00639.jpg',\n 'TEST00479.jpg',\n 'TEST09661.jpg',\n 'TEST01904.jpg',\n 'TEST07497.jpg',\n 'TEST03692.jpg',\n 'TEST01609.jpg',\n 'TEST06378.jpg',\n 'TEST04257.jpg',\n 'TEST03149.jpg',\n 'TEST04789.jpg',\n 'TEST08699.jpg',\n 'TEST00955.jpg',\n 'TEST00251.jpg',\n 'TEST01071.jpg',\n 'TEST06854.jpg',\n 'TEST08555.jpg',\n 'TEST04768.jpg',\n 'TEST01239.jpg',\n 'TEST08437.jpg',\n 'TEST04999.jpg',\n 'TEST04102.jpg',\n 'TEST08873.jpg',\n 'TEST02586.jpg',\n 'TEST08118.jpg',\n 'TEST01409.jpg',\n 'TEST03075.jpg',\n 'TEST07385.jpg',\n 'TEST09013.jpg',\n 'TEST02348.jpg',\n 'TEST06226.jpg',\n 'TEST09040.jpg',\n 'TEST06492.jpg',\n 'TEST03187.jpg',\n 'TEST07838.jpg',\n 'TEST00532.jpg',\n 'TEST05303.jpg',\n 'TEST05239.jpg',\n 'TEST08579.jpg',\n 'TEST04620.jpg',\n 'TEST09705.jpg',\n 'TEST03362.jpg',\n 'TEST07555.jpg',\n 'TEST08135.jpg',\n 'TEST05085.jpg',\n 'TEST04655.jpg',\n 'TEST07225.jpg',\n 'TEST06444.jpg',\n 'TEST01957.jpg',\n 'TEST06750.jpg',\n 'TEST07767.jpg',\n 'TEST07839.jpg',\n 'TEST02008.jpg',\n 'TEST08643.jpg',\n 'TEST07511.jpg',\n 'TEST07775.jpg',\n 'TEST01986.jpg',\n 'TEST05056.jpg',\n 'TEST02256.jpg',\n 'TEST09216.jpg',\n 'TEST02547.jpg',\n 'TEST02717.jpg',\n 'TEST08350.jpg',\n 'TEST02909.jpg',\n ...]"
     },
     "execution_count": 3,
     "metadata": {},
     "output_type": "execute_result"
    }
   ],
   "source": [
    "submission_files = [fn for fn in os.listdir(SUBM_DATA_DIR)]\n",
    "submission_files"
   ],
   "metadata": {
    "collapsed": false
   }
  },
  {
   "cell_type": "code",
   "execution_count": 4,
   "outputs": [
    {
     "data": {
      "text/plain": "         filename  predictions\n0   TEST00000.png     0.999248\n1   TEST00001.png     0.000095\n2   TEST00002.png     0.000206\n3   TEST00003.png     0.999012\n4   TEST00004.png     0.000294\n..            ...          ...\n9   TEST09995.png     0.000327\n10  TEST09996.png     0.000362\n11  TEST09997.png     0.000778\n12  TEST09998.png     0.740718\n13  TEST09999.png     0.000251\n\n[9998 rows x 2 columns]",
      "text/html": "<div>\n<style scoped>\n    .dataframe tbody tr th:only-of-type {\n        vertical-align: middle;\n    }\n\n    .dataframe tbody tr th {\n        vertical-align: top;\n    }\n\n    .dataframe thead th {\n        text-align: right;\n    }\n</style>\n<table border=\"1\" class=\"dataframe\">\n  <thead>\n    <tr style=\"text-align: right;\">\n      <th></th>\n      <th>filename</th>\n      <th>predictions</th>\n    </tr>\n  </thead>\n  <tbody>\n    <tr>\n      <th>0</th>\n      <td>TEST00000.png</td>\n      <td>0.999248</td>\n    </tr>\n    <tr>\n      <th>1</th>\n      <td>TEST00001.png</td>\n      <td>0.000095</td>\n    </tr>\n    <tr>\n      <th>2</th>\n      <td>TEST00002.png</td>\n      <td>0.000206</td>\n    </tr>\n    <tr>\n      <th>3</th>\n      <td>TEST00003.png</td>\n      <td>0.999012</td>\n    </tr>\n    <tr>\n      <th>4</th>\n      <td>TEST00004.png</td>\n      <td>0.000294</td>\n    </tr>\n    <tr>\n      <th>...</th>\n      <td>...</td>\n      <td>...</td>\n    </tr>\n    <tr>\n      <th>9</th>\n      <td>TEST09995.png</td>\n      <td>0.000327</td>\n    </tr>\n    <tr>\n      <th>10</th>\n      <td>TEST09996.png</td>\n      <td>0.000362</td>\n    </tr>\n    <tr>\n      <th>11</th>\n      <td>TEST09997.png</td>\n      <td>0.000778</td>\n    </tr>\n    <tr>\n      <th>12</th>\n      <td>TEST09998.png</td>\n      <td>0.740718</td>\n    </tr>\n    <tr>\n      <th>13</th>\n      <td>TEST09999.png</td>\n      <td>0.000251</td>\n    </tr>\n  </tbody>\n</table>\n<p>9998 rows × 2 columns</p>\n</div>"
     },
     "execution_count": 4,
     "metadata": {},
     "output_type": "execute_result"
    }
   ],
   "source": [
    "df_sp_list = [pd.read_csv(os.path.join(EXP_DIR, fn), index_col=0) for fn in submission_prediction_fnames]\n",
    "df_sp_list[0]\n"
   ],
   "metadata": {
    "collapsed": false
   }
  },
  {
   "cell_type": "code",
   "execution_count": 5,
   "outputs": [],
   "source": [
    "import numpy as np\n",
    "submission_df = pd.DataFrame(data={'aimi_id':np.array([fn[:-4] for fn in submission_files])})"
   ],
   "metadata": {
    "collapsed": false
   }
  },
  {
   "cell_type": "code",
   "execution_count": 6,
   "outputs": [
    {
     "data": {
      "text/plain": "        aimi_id\n0     TEST08525\n1     TEST03423\n2     TEST06866\n3     TEST08419\n4     TEST08187\n...         ...\n9995  TEST04154\n9996  TEST07878\n9997  TEST04189\n9998  TEST00909\n9999  TEST03773\n\n[10000 rows x 1 columns]",
      "text/html": "<div>\n<style scoped>\n    .dataframe tbody tr th:only-of-type {\n        vertical-align: middle;\n    }\n\n    .dataframe tbody tr th {\n        vertical-align: top;\n    }\n\n    .dataframe thead th {\n        text-align: right;\n    }\n</style>\n<table border=\"1\" class=\"dataframe\">\n  <thead>\n    <tr style=\"text-align: right;\">\n      <th></th>\n      <th>aimi_id</th>\n    </tr>\n  </thead>\n  <tbody>\n    <tr>\n      <th>0</th>\n      <td>TEST08525</td>\n    </tr>\n    <tr>\n      <th>1</th>\n      <td>TEST03423</td>\n    </tr>\n    <tr>\n      <th>2</th>\n      <td>TEST06866</td>\n    </tr>\n    <tr>\n      <th>3</th>\n      <td>TEST08419</td>\n    </tr>\n    <tr>\n      <th>4</th>\n      <td>TEST08187</td>\n    </tr>\n    <tr>\n      <th>...</th>\n      <td>...</td>\n    </tr>\n    <tr>\n      <th>9995</th>\n      <td>TEST04154</td>\n    </tr>\n    <tr>\n      <th>9996</th>\n      <td>TEST07878</td>\n    </tr>\n    <tr>\n      <th>9997</th>\n      <td>TEST04189</td>\n    </tr>\n    <tr>\n      <th>9998</th>\n      <td>TEST00909</td>\n    </tr>\n    <tr>\n      <th>9999</th>\n      <td>TEST03773</td>\n    </tr>\n  </tbody>\n</table>\n<p>10000 rows × 1 columns</p>\n</div>"
     },
     "execution_count": 6,
     "metadata": {},
     "output_type": "execute_result"
    }
   ],
   "source": [
    "submission_df"
   ],
   "metadata": {
    "collapsed": false
   }
  },
  {
   "cell_type": "code",
   "execution_count": 7,
   "outputs": [],
   "source": [
    "for i, df in enumerate(df_sp_list):\n",
    "    df['aimi_id'] = df['filename'].apply(lambda x: x[:-4])\n",
    "    df.rename(columns={'predictions':f'rg_likelihood_{i}'}, inplace=True)\n",
    "    df.drop(columns='filename', inplace=True)\n",
    "    df.set_index('aimi_id', inplace=True)\n",
    "\n",
    "submission_df.set_index('aimi_id', inplace=True)"
   ],
   "metadata": {
    "collapsed": false
   }
  },
  {
   "cell_type": "code",
   "execution_count": 8,
   "outputs": [
    {
     "data": {
      "text/plain": "           rg_likelihood_0\naimi_id                   \nTEST00000         0.999248\nTEST00001         0.000095\nTEST00002         0.000206\nTEST00003         0.999012\nTEST00004         0.000294\n...                    ...\nTEST09995         0.000327\nTEST09996         0.000362\nTEST09997         0.000778\nTEST09998         0.740718\nTEST09999         0.000251\n\n[9998 rows x 1 columns]",
      "text/html": "<div>\n<style scoped>\n    .dataframe tbody tr th:only-of-type {\n        vertical-align: middle;\n    }\n\n    .dataframe tbody tr th {\n        vertical-align: top;\n    }\n\n    .dataframe thead th {\n        text-align: right;\n    }\n</style>\n<table border=\"1\" class=\"dataframe\">\n  <thead>\n    <tr style=\"text-align: right;\">\n      <th></th>\n      <th>rg_likelihood_0</th>\n    </tr>\n    <tr>\n      <th>aimi_id</th>\n      <th></th>\n    </tr>\n  </thead>\n  <tbody>\n    <tr>\n      <th>TEST00000</th>\n      <td>0.999248</td>\n    </tr>\n    <tr>\n      <th>TEST00001</th>\n      <td>0.000095</td>\n    </tr>\n    <tr>\n      <th>TEST00002</th>\n      <td>0.000206</td>\n    </tr>\n    <tr>\n      <th>TEST00003</th>\n      <td>0.999012</td>\n    </tr>\n    <tr>\n      <th>TEST00004</th>\n      <td>0.000294</td>\n    </tr>\n    <tr>\n      <th>...</th>\n      <td>...</td>\n    </tr>\n    <tr>\n      <th>TEST09995</th>\n      <td>0.000327</td>\n    </tr>\n    <tr>\n      <th>TEST09996</th>\n      <td>0.000362</td>\n    </tr>\n    <tr>\n      <th>TEST09997</th>\n      <td>0.000778</td>\n    </tr>\n    <tr>\n      <th>TEST09998</th>\n      <td>0.740718</td>\n    </tr>\n    <tr>\n      <th>TEST09999</th>\n      <td>0.000251</td>\n    </tr>\n  </tbody>\n</table>\n<p>9998 rows × 1 columns</p>\n</div>"
     },
     "execution_count": 8,
     "metadata": {},
     "output_type": "execute_result"
    }
   ],
   "source": [
    "df_sp_list[0]"
   ],
   "metadata": {
    "collapsed": false
   }
  },
  {
   "cell_type": "code",
   "execution_count": 9,
   "outputs": [],
   "source": [
    "submission_df_merged = submission_df.copy()\n",
    "for df in df_sp_list:\n",
    "    submission_df_merged = pd.merge(submission_df_merged, df, how='left', on='aimi_id')"
   ],
   "metadata": {
    "collapsed": false
   }
  },
  {
   "cell_type": "code",
   "execution_count": 10,
   "outputs": [
    {
     "data": {
      "text/plain": "           rg_likelihood_0  rg_likelihood_1  rg_likelihood_2  rg_likelihood_3  \\\naimi_id                                                                         \nTEST08525         0.000805         0.000390         0.002201         0.000273   \nTEST03423         0.000343         0.000134         0.020514         0.000143   \nTEST06866         0.000103         0.000325         0.000275         0.000127   \nTEST08419         0.000129         0.001908         0.011932         0.000180   \nTEST08187         0.000277         0.000278         0.000308         0.000082   \n...                    ...              ...              ...              ...   \nTEST04154         0.537611         0.161005         0.363858         0.001932   \nTEST07878         0.000566         0.001096         0.001268         0.000221   \nTEST04189         0.000336         0.000444         0.001031         0.000131   \nTEST00909         0.000225         0.000536         0.009874         0.000631   \nTEST03773         0.000193         0.000628         0.000595         0.000495   \n\n           rg_likelihood_4  rg_likelihood  \naimi_id                                    \nTEST08525         0.001630       0.001124  \nTEST03423         0.000115       0.005227  \nTEST06866         0.000165       0.000223  \nTEST08419         0.002235       0.004064  \nTEST08187         0.000127       0.000199  \n...                    ...            ...  \nTEST04154         0.077031       0.150956  \nTEST07878         0.000434       0.000755  \nTEST04189         0.000229       0.000459  \nTEST00909         0.001548       0.003147  \nTEST03773         0.000176       0.000474  \n\n[10000 rows x 6 columns]",
      "text/html": "<div>\n<style scoped>\n    .dataframe tbody tr th:only-of-type {\n        vertical-align: middle;\n    }\n\n    .dataframe tbody tr th {\n        vertical-align: top;\n    }\n\n    .dataframe thead th {\n        text-align: right;\n    }\n</style>\n<table border=\"1\" class=\"dataframe\">\n  <thead>\n    <tr style=\"text-align: right;\">\n      <th></th>\n      <th>rg_likelihood_0</th>\n      <th>rg_likelihood_1</th>\n      <th>rg_likelihood_2</th>\n      <th>rg_likelihood_3</th>\n      <th>rg_likelihood_4</th>\n      <th>rg_likelihood</th>\n    </tr>\n    <tr>\n      <th>aimi_id</th>\n      <th></th>\n      <th></th>\n      <th></th>\n      <th></th>\n      <th></th>\n      <th></th>\n    </tr>\n  </thead>\n  <tbody>\n    <tr>\n      <th>TEST08525</th>\n      <td>0.000805</td>\n      <td>0.000390</td>\n      <td>0.002201</td>\n      <td>0.000273</td>\n      <td>0.001630</td>\n      <td>0.001124</td>\n    </tr>\n    <tr>\n      <th>TEST03423</th>\n      <td>0.000343</td>\n      <td>0.000134</td>\n      <td>0.020514</td>\n      <td>0.000143</td>\n      <td>0.000115</td>\n      <td>0.005227</td>\n    </tr>\n    <tr>\n      <th>TEST06866</th>\n      <td>0.000103</td>\n      <td>0.000325</td>\n      <td>0.000275</td>\n      <td>0.000127</td>\n      <td>0.000165</td>\n      <td>0.000223</td>\n    </tr>\n    <tr>\n      <th>TEST08419</th>\n      <td>0.000129</td>\n      <td>0.001908</td>\n      <td>0.011932</td>\n      <td>0.000180</td>\n      <td>0.002235</td>\n      <td>0.004064</td>\n    </tr>\n    <tr>\n      <th>TEST08187</th>\n      <td>0.000277</td>\n      <td>0.000278</td>\n      <td>0.000308</td>\n      <td>0.000082</td>\n      <td>0.000127</td>\n      <td>0.000199</td>\n    </tr>\n    <tr>\n      <th>...</th>\n      <td>...</td>\n      <td>...</td>\n      <td>...</td>\n      <td>...</td>\n      <td>...</td>\n      <td>...</td>\n    </tr>\n    <tr>\n      <th>TEST04154</th>\n      <td>0.537611</td>\n      <td>0.161005</td>\n      <td>0.363858</td>\n      <td>0.001932</td>\n      <td>0.077031</td>\n      <td>0.150956</td>\n    </tr>\n    <tr>\n      <th>TEST07878</th>\n      <td>0.000566</td>\n      <td>0.001096</td>\n      <td>0.001268</td>\n      <td>0.000221</td>\n      <td>0.000434</td>\n      <td>0.000755</td>\n    </tr>\n    <tr>\n      <th>TEST04189</th>\n      <td>0.000336</td>\n      <td>0.000444</td>\n      <td>0.001031</td>\n      <td>0.000131</td>\n      <td>0.000229</td>\n      <td>0.000459</td>\n    </tr>\n    <tr>\n      <th>TEST00909</th>\n      <td>0.000225</td>\n      <td>0.000536</td>\n      <td>0.009874</td>\n      <td>0.000631</td>\n      <td>0.001548</td>\n      <td>0.003147</td>\n    </tr>\n    <tr>\n      <th>TEST03773</th>\n      <td>0.000193</td>\n      <td>0.000628</td>\n      <td>0.000595</td>\n      <td>0.000495</td>\n      <td>0.000176</td>\n      <td>0.000474</td>\n    </tr>\n  </tbody>\n</table>\n<p>10000 rows × 6 columns</p>\n</div>"
     },
     "execution_count": 10,
     "metadata": {},
     "output_type": "execute_result"
    }
   ],
   "source": [
    "submission_df_merged['rg_likelihood'] = submission_df_merged.iloc[:, 1:].mean(axis=1)\n",
    "submission_df_merged"
   ],
   "metadata": {
    "collapsed": false
   }
  },
  {
   "cell_type": "code",
   "execution_count": 22,
   "outputs": [
    {
     "data": {
      "text/plain": "aimi_id\nTEST01971   NaN\nTEST08978   NaN\nName: rg_likelihood, dtype: float64"
     },
     "execution_count": 22,
     "metadata": {},
     "output_type": "execute_result"
    }
   ],
   "source": [
    "to_submit = submission_df_merged.sort_index(ascending=True)['rg_likelihood']\n",
    "to_submit[to_submit.isna()]"
   ],
   "metadata": {
    "collapsed": false
   }
  },
  {
   "cell_type": "code",
   "execution_count": 24,
   "outputs": [],
   "source": [
    "to_submit['TEST01971'] = 0.004\n",
    "to_submit['TEST08978'] = 0.3"
   ],
   "metadata": {
    "collapsed": false
   }
  },
  {
   "cell_type": "code",
   "execution_count": 25,
   "outputs": [],
   "source": [
    "to_submit.to_csv('submission.csv', sep=';')"
   ],
   "metadata": {
    "collapsed": false
   }
  },
  {
   "cell_type": "code",
   "execution_count": 1,
   "outputs": [
    {
     "data": {
      "text/plain": "0.9324266666666667"
     },
     "execution_count": 1,
     "metadata": {},
     "output_type": "execute_result"
    }
   ],
   "source": [
    "(0.93049 + 0.93408 + 0.93271)/3"
   ],
   "metadata": {
    "collapsed": false
   }
  },
  {
   "cell_type": "code",
   "execution_count": 2,
   "outputs": [
    {
     "data": {
      "text/plain": "0.9027933333333333"
     },
     "execution_count": 2,
     "metadata": {},
     "output_type": "execute_result"
    }
   ],
   "source": [
    "(0.89353 + 0.90920 + 0.90565) / 3"
   ],
   "metadata": {
    "collapsed": false
   }
  },
  {
   "cell_type": "code",
   "execution_count": 3,
   "outputs": [
    {
     "data": {
      "text/plain": "0.9305366666666667"
     },
     "execution_count": 3,
     "metadata": {},
     "output_type": "execute_result"
    }
   ],
   "source": [
    "(0.93302 + 0.92680 + 0.93179) / 3"
   ],
   "metadata": {
    "collapsed": false
   }
  },
  {
   "cell_type": "code",
   "execution_count": 5,
   "outputs": [
    {
     "data": {
      "text/plain": "0.8935566666666667"
     },
     "execution_count": 5,
     "metadata": {},
     "output_type": "execute_result"
    }
   ],
   "source": [
    "(0.90355 + 0.90122 + 0.87590) / 3"
   ],
   "metadata": {
    "collapsed": false
   }
  },
  {
   "cell_type": "code",
   "execution_count": 7,
   "outputs": [
    {
     "data": {
      "text/plain": "(0.93, 0.891)"
     },
     "execution_count": 7,
     "metadata": {},
     "output_type": "execute_result"
    }
   ],
   "source": [
    "# baseline (tuned yolo) 1.2 crop\n",
    "round((0.92960+0.93282+0.92844) / 3, 3), round((0.89837+0.88655+0.88948) / 3, 3)"
   ],
   "metadata": {
    "collapsed": false
   }
  },
  {
   "cell_type": "code",
   "execution_count": null,
   "outputs": [],
   "source": [
    "# non-tuned yolo 1.2 crop\n",
    "partial_auroc = (0.93648 + 0.93496 + 0.93751) / 3\n",
    "sens_at_95_spec =  (0.91618 + 0.89030 + 0.89701) / 3\n",
    "round(partial_auroc, 3), round(sens_at_95_spec, 3)"
   ],
   "metadata": {
    "collapsed": false
   }
  }
 ],
 "metadata": {
  "kernelspec": {
   "display_name": "Python 3",
   "language": "python",
   "name": "python3"
  },
  "language_info": {
   "codemirror_mode": {
    "name": "ipython",
    "version": 2
   },
   "file_extension": ".py",
   "mimetype": "text/x-python",
   "name": "python",
   "nbconvert_exporter": "python",
   "pygments_lexer": "ipython2",
   "version": "2.7.6"
  }
 },
 "nbformat": 4,
 "nbformat_minor": 0
}
