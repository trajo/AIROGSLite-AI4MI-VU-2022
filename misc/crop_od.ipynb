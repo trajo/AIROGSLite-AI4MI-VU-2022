{
 "cells": [
  {
   "cell_type": "markdown",
   "metadata": {},
   "source": [
    "# Add yolo results to dataframe, compute od in original image, save images "
   ]
  },
  {
   "cell_type": "code",
   "execution_count": 11,
   "metadata": {},
   "outputs": [],
   "source": [
    "import pandas as pd\n",
    "import os\n",
    "from tqdm import tqdm\n",
    "from collections import Counter\n",
    "import src.preprocessing as ppc\n",
    "import cv2"
   ]
  },
  {
   "cell_type": "code",
   "execution_count": 12,
   "metadata": {},
   "outputs": [
    {
     "data": {
      "text/plain": "               new_file  delta_x  delta_y  orig_crop_side  side  scaling\norig_file                                                               \nDEV13781.jpg  SHUF00000      176     -144            2272  2272      1.0\nDEV12858.jpg  SHUF00001      -89     -904            3150  3150      1.0\nDEV02899.jpg  SHUF00002      -59     -685            2486  2486      1.0\nDEV12129.jpg  SHUF00003      168     -152            2256  2256      1.0\nDEV04490.jpg  SHUF00004      -66     -886            3166  3166      1.0\n...                 ...      ...      ...             ...   ...      ...\nDEV04506.jpg  SHUF14995      -44     -905            3175  3175      1.0\nDEV12149.jpg  SHUF14996      -45     -857            3207  3207      1.0\nDEV00409.jpg  SHUF14997      -95     -870            2987  2987      1.0\nDEV01824.jpg  SHUF14998      197     -127            2338  2338      1.0\nDEV10476.jpg  SHUF14999      176     -144            2272  2272      1.0\n\n[15000 rows x 6 columns]",
      "text/html": "<div>\n<style scoped>\n    .dataframe tbody tr th:only-of-type {\n        vertical-align: middle;\n    }\n\n    .dataframe tbody tr th {\n        vertical-align: top;\n    }\n\n    .dataframe thead th {\n        text-align: right;\n    }\n</style>\n<table border=\"1\" class=\"dataframe\">\n  <thead>\n    <tr style=\"text-align: right;\">\n      <th></th>\n      <th>new_file</th>\n      <th>delta_x</th>\n      <th>delta_y</th>\n      <th>orig_crop_side</th>\n      <th>side</th>\n      <th>scaling</th>\n    </tr>\n    <tr>\n      <th>orig_file</th>\n      <th></th>\n      <th></th>\n      <th></th>\n      <th></th>\n      <th></th>\n      <th></th>\n    </tr>\n  </thead>\n  <tbody>\n    <tr>\n      <th>DEV13781.jpg</th>\n      <td>SHUF00000</td>\n      <td>176</td>\n      <td>-144</td>\n      <td>2272</td>\n      <td>2272</td>\n      <td>1.0</td>\n    </tr>\n    <tr>\n      <th>DEV12858.jpg</th>\n      <td>SHUF00001</td>\n      <td>-89</td>\n      <td>-904</td>\n      <td>3150</td>\n      <td>3150</td>\n      <td>1.0</td>\n    </tr>\n    <tr>\n      <th>DEV02899.jpg</th>\n      <td>SHUF00002</td>\n      <td>-59</td>\n      <td>-685</td>\n      <td>2486</td>\n      <td>2486</td>\n      <td>1.0</td>\n    </tr>\n    <tr>\n      <th>DEV12129.jpg</th>\n      <td>SHUF00003</td>\n      <td>168</td>\n      <td>-152</td>\n      <td>2256</td>\n      <td>2256</td>\n      <td>1.0</td>\n    </tr>\n    <tr>\n      <th>DEV04490.jpg</th>\n      <td>SHUF00004</td>\n      <td>-66</td>\n      <td>-886</td>\n      <td>3166</td>\n      <td>3166</td>\n      <td>1.0</td>\n    </tr>\n    <tr>\n      <th>...</th>\n      <td>...</td>\n      <td>...</td>\n      <td>...</td>\n      <td>...</td>\n      <td>...</td>\n      <td>...</td>\n    </tr>\n    <tr>\n      <th>DEV04506.jpg</th>\n      <td>SHUF14995</td>\n      <td>-44</td>\n      <td>-905</td>\n      <td>3175</td>\n      <td>3175</td>\n      <td>1.0</td>\n    </tr>\n    <tr>\n      <th>DEV12149.jpg</th>\n      <td>SHUF14996</td>\n      <td>-45</td>\n      <td>-857</td>\n      <td>3207</td>\n      <td>3207</td>\n      <td>1.0</td>\n    </tr>\n    <tr>\n      <th>DEV00409.jpg</th>\n      <td>SHUF14997</td>\n      <td>-95</td>\n      <td>-870</td>\n      <td>2987</td>\n      <td>2987</td>\n      <td>1.0</td>\n    </tr>\n    <tr>\n      <th>DEV01824.jpg</th>\n      <td>SHUF14998</td>\n      <td>197</td>\n      <td>-127</td>\n      <td>2338</td>\n      <td>2338</td>\n      <td>1.0</td>\n    </tr>\n    <tr>\n      <th>DEV10476.jpg</th>\n      <td>SHUF14999</td>\n      <td>176</td>\n      <td>-144</td>\n      <td>2272</td>\n      <td>2272</td>\n      <td>1.0</td>\n    </tr>\n  </tbody>\n</table>\n<p>15000 rows × 6 columns</p>\n</div>"
     },
     "execution_count": 12,
     "metadata": {},
     "output_type": "execute_result"
    }
   ],
   "source": [
    "df = pd.read_csv(\"data/shuffled_square_75/img_info.csv\", index_col=0)\n",
    "df"
   ]
  },
  {
   "cell_type": "markdown",
   "metadata": {},
   "source": [
    "## Extract predictions and add to dataframe"
   ]
  },
  {
   "cell_type": "code",
   "execution_count": 13,
   "metadata": {},
   "outputs": [
    {
     "name": "stderr",
     "output_type": "stream",
     "text": [
      "100%|██████████| 14999/14999 [00:00<00:00, 57638.31it/s]\n"
     ]
    }
   ],
   "source": [
    "leng = []\n",
    "\n",
    "for filename in tqdm(os.listdir(\"data/labels\")):\n",
    "    predictions = open(f\"data/labels/{filename}\", \"r\").read()\n",
    "    predictions = predictions.split(\"\\n\")[:-1]\n",
    "    predictions = [pred.split() for pred in predictions]\n",
    "    leng.append(len(predictions))"
   ]
  },
  {
   "cell_type": "code",
   "execution_count": 14,
   "metadata": {},
   "outputs": [
    {
     "data": {
      "text/plain": "Counter({2: 14709, 1: 188, 3: 100, 4: 2})"
     },
     "execution_count": 14,
     "metadata": {},
     "output_type": "execute_result"
    }
   ],
   "source": [
    "count = Counter(leng)\n",
    "count # in 117 instances we only have 1 prediction \n",
    "# (I checked, its like half/half fovea or OD. so like 50 ODs are missing but in that case we can just use the full retina)"
   ]
  },
  {
   "cell_type": "code",
   "execution_count": 15,
   "metadata": {},
   "outputs": [
    {
     "data": {
      "text/plain": "14999"
     },
     "execution_count": 15,
     "metadata": {},
     "output_type": "execute_result"
    }
   ],
   "source": [
    "len(os.listdir(\"data/labels\"))"
   ]
  },
  {
   "cell_type": "code",
   "execution_count": 16,
   "metadata": {},
   "outputs": [
    {
     "name": "stderr",
     "output_type": "stream",
     "text": [
      "100%|██████████| 14999/14999 [00:00<00:00, 52587.89it/s]\n"
     ]
    },
    {
     "data": {
      "text/plain": "          orig_file   new_file  delta_x  delta_y  orig_crop_side  side  \\\n0      DEV13781.jpg  SHUF00000      176     -144            2272  2272   \n1      DEV12858.jpg  SHUF00001      -89     -904            3150  3150   \n2      DEV02899.jpg  SHUF00002      -59     -685            2486  2486   \n3      DEV12129.jpg  SHUF00003      168     -152            2256  2256   \n4      DEV04490.jpg  SHUF00004      -66     -886            3166  3166   \n...             ...        ...      ...      ...             ...   ...   \n14995  DEV04506.jpg  SHUF14995      -44     -905            3175  3175   \n14996  DEV12149.jpg  SHUF14996      -45     -857            3207  3207   \n14997  DEV00409.jpg  SHUF14997      -95     -870            2987  2987   \n14998  DEV01824.jpg  SHUF14998      197     -127            2338  2338   \n14999  DEV10476.jpg  SHUF14999      176     -144            2272  2272   \n\n       scaling  odc_x_ratio  odc_y_ratio  odc_width_ratio  odc_height_ratio  \\\n0          1.0     0.789844     0.457812         0.192188          0.187500   \n1          1.0     0.238281     0.442969         0.198437          0.201562   \n2          1.0     0.304688     0.441406         0.162500          0.164062   \n3          1.0     0.254687     0.442969         0.156250          0.157813   \n4          1.0     0.802344     0.489844         0.201562          0.201562   \n...        ...          ...          ...              ...               ...   \n14995      1.0     0.235156     0.472656         0.154687          0.151562   \n14996      1.0     0.257031     0.489844         0.192188          0.195312   \n14997      1.0     0.625781     0.466406         0.195312          0.192188   \n14998      1.0     0.753906     0.458594         0.151562          0.157813   \n14999      1.0     0.250000     0.434375         0.181250          0.181250   \n\n       odc_conf  fovea_x_ratio  fovea_y_ratio  fovea_width_ratio  \\\n0      0.882039       0.392969       0.501562           0.207813   \n1      0.876956       0.612500       0.526563           0.187500   \n2      0.894259       0.670313       0.506250           0.159375   \n3      0.888492       0.608594       0.485938           0.164062   \n4      0.881505       0.450000       0.534375           0.193750   \n...         ...            ...            ...                ...   \n14995  0.900382       0.611719       0.531250           0.167187   \n14996  0.876265       0.601562       0.518750           0.196875   \n14997  0.870469       0.220313       0.532031           0.200000   \n14998  0.905078       0.393750       0.503125           0.153125   \n14999  0.894859       0.630469       0.504687           0.173438   \n\n       fovea_height_ratio  fovea_conf  \n0                0.212500    0.807168  \n1                0.196875    0.793723  \n2                0.162500    0.755753  \n3                0.162500    0.737824  \n4                0.196875    0.843570  \n...                   ...         ...  \n14995            0.171875    0.852776  \n14996            0.200000    0.831810  \n14997            0.207813    0.828260  \n14998            0.153125    0.795078  \n14999            0.175000    0.828155  \n\n[15000 rows x 17 columns]",
      "text/html": "<div>\n<style scoped>\n    .dataframe tbody tr th:only-of-type {\n        vertical-align: middle;\n    }\n\n    .dataframe tbody tr th {\n        vertical-align: top;\n    }\n\n    .dataframe thead th {\n        text-align: right;\n    }\n</style>\n<table border=\"1\" class=\"dataframe\">\n  <thead>\n    <tr style=\"text-align: right;\">\n      <th></th>\n      <th>orig_file</th>\n      <th>new_file</th>\n      <th>delta_x</th>\n      <th>delta_y</th>\n      <th>orig_crop_side</th>\n      <th>side</th>\n      <th>scaling</th>\n      <th>odc_x_ratio</th>\n      <th>odc_y_ratio</th>\n      <th>odc_width_ratio</th>\n      <th>odc_height_ratio</th>\n      <th>odc_conf</th>\n      <th>fovea_x_ratio</th>\n      <th>fovea_y_ratio</th>\n      <th>fovea_width_ratio</th>\n      <th>fovea_height_ratio</th>\n      <th>fovea_conf</th>\n    </tr>\n  </thead>\n  <tbody>\n    <tr>\n      <th>0</th>\n      <td>DEV13781.jpg</td>\n      <td>SHUF00000</td>\n      <td>176</td>\n      <td>-144</td>\n      <td>2272</td>\n      <td>2272</td>\n      <td>1.0</td>\n      <td>0.789844</td>\n      <td>0.457812</td>\n      <td>0.192188</td>\n      <td>0.187500</td>\n      <td>0.882039</td>\n      <td>0.392969</td>\n      <td>0.501562</td>\n      <td>0.207813</td>\n      <td>0.212500</td>\n      <td>0.807168</td>\n    </tr>\n    <tr>\n      <th>1</th>\n      <td>DEV12858.jpg</td>\n      <td>SHUF00001</td>\n      <td>-89</td>\n      <td>-904</td>\n      <td>3150</td>\n      <td>3150</td>\n      <td>1.0</td>\n      <td>0.238281</td>\n      <td>0.442969</td>\n      <td>0.198437</td>\n      <td>0.201562</td>\n      <td>0.876956</td>\n      <td>0.612500</td>\n      <td>0.526563</td>\n      <td>0.187500</td>\n      <td>0.196875</td>\n      <td>0.793723</td>\n    </tr>\n    <tr>\n      <th>2</th>\n      <td>DEV02899.jpg</td>\n      <td>SHUF00002</td>\n      <td>-59</td>\n      <td>-685</td>\n      <td>2486</td>\n      <td>2486</td>\n      <td>1.0</td>\n      <td>0.304688</td>\n      <td>0.441406</td>\n      <td>0.162500</td>\n      <td>0.164062</td>\n      <td>0.894259</td>\n      <td>0.670313</td>\n      <td>0.506250</td>\n      <td>0.159375</td>\n      <td>0.162500</td>\n      <td>0.755753</td>\n    </tr>\n    <tr>\n      <th>3</th>\n      <td>DEV12129.jpg</td>\n      <td>SHUF00003</td>\n      <td>168</td>\n      <td>-152</td>\n      <td>2256</td>\n      <td>2256</td>\n      <td>1.0</td>\n      <td>0.254687</td>\n      <td>0.442969</td>\n      <td>0.156250</td>\n      <td>0.157813</td>\n      <td>0.888492</td>\n      <td>0.608594</td>\n      <td>0.485938</td>\n      <td>0.164062</td>\n      <td>0.162500</td>\n      <td>0.737824</td>\n    </tr>\n    <tr>\n      <th>4</th>\n      <td>DEV04490.jpg</td>\n      <td>SHUF00004</td>\n      <td>-66</td>\n      <td>-886</td>\n      <td>3166</td>\n      <td>3166</td>\n      <td>1.0</td>\n      <td>0.802344</td>\n      <td>0.489844</td>\n      <td>0.201562</td>\n      <td>0.201562</td>\n      <td>0.881505</td>\n      <td>0.450000</td>\n      <td>0.534375</td>\n      <td>0.193750</td>\n      <td>0.196875</td>\n      <td>0.843570</td>\n    </tr>\n    <tr>\n      <th>...</th>\n      <td>...</td>\n      <td>...</td>\n      <td>...</td>\n      <td>...</td>\n      <td>...</td>\n      <td>...</td>\n      <td>...</td>\n      <td>...</td>\n      <td>...</td>\n      <td>...</td>\n      <td>...</td>\n      <td>...</td>\n      <td>...</td>\n      <td>...</td>\n      <td>...</td>\n      <td>...</td>\n      <td>...</td>\n    </tr>\n    <tr>\n      <th>14995</th>\n      <td>DEV04506.jpg</td>\n      <td>SHUF14995</td>\n      <td>-44</td>\n      <td>-905</td>\n      <td>3175</td>\n      <td>3175</td>\n      <td>1.0</td>\n      <td>0.235156</td>\n      <td>0.472656</td>\n      <td>0.154687</td>\n      <td>0.151562</td>\n      <td>0.900382</td>\n      <td>0.611719</td>\n      <td>0.531250</td>\n      <td>0.167187</td>\n      <td>0.171875</td>\n      <td>0.852776</td>\n    </tr>\n    <tr>\n      <th>14996</th>\n      <td>DEV12149.jpg</td>\n      <td>SHUF14996</td>\n      <td>-45</td>\n      <td>-857</td>\n      <td>3207</td>\n      <td>3207</td>\n      <td>1.0</td>\n      <td>0.257031</td>\n      <td>0.489844</td>\n      <td>0.192188</td>\n      <td>0.195312</td>\n      <td>0.876265</td>\n      <td>0.601562</td>\n      <td>0.518750</td>\n      <td>0.196875</td>\n      <td>0.200000</td>\n      <td>0.831810</td>\n    </tr>\n    <tr>\n      <th>14997</th>\n      <td>DEV00409.jpg</td>\n      <td>SHUF14997</td>\n      <td>-95</td>\n      <td>-870</td>\n      <td>2987</td>\n      <td>2987</td>\n      <td>1.0</td>\n      <td>0.625781</td>\n      <td>0.466406</td>\n      <td>0.195312</td>\n      <td>0.192188</td>\n      <td>0.870469</td>\n      <td>0.220313</td>\n      <td>0.532031</td>\n      <td>0.200000</td>\n      <td>0.207813</td>\n      <td>0.828260</td>\n    </tr>\n    <tr>\n      <th>14998</th>\n      <td>DEV01824.jpg</td>\n      <td>SHUF14998</td>\n      <td>197</td>\n      <td>-127</td>\n      <td>2338</td>\n      <td>2338</td>\n      <td>1.0</td>\n      <td>0.753906</td>\n      <td>0.458594</td>\n      <td>0.151562</td>\n      <td>0.157813</td>\n      <td>0.905078</td>\n      <td>0.393750</td>\n      <td>0.503125</td>\n      <td>0.153125</td>\n      <td>0.153125</td>\n      <td>0.795078</td>\n    </tr>\n    <tr>\n      <th>14999</th>\n      <td>DEV10476.jpg</td>\n      <td>SHUF14999</td>\n      <td>176</td>\n      <td>-144</td>\n      <td>2272</td>\n      <td>2272</td>\n      <td>1.0</td>\n      <td>0.250000</td>\n      <td>0.434375</td>\n      <td>0.181250</td>\n      <td>0.181250</td>\n      <td>0.894859</td>\n      <td>0.630469</td>\n      <td>0.504687</td>\n      <td>0.173438</td>\n      <td>0.175000</td>\n      <td>0.828155</td>\n    </tr>\n  </tbody>\n</table>\n<p>15000 rows × 17 columns</p>\n</div>"
     },
     "execution_count": 16,
     "metadata": {},
     "output_type": "execute_result"
    }
   ],
   "source": [
    "records = []\n",
    "for filename in tqdm(os.listdir(\"data/labels\")):\n",
    "    key = filename[:-4]\n",
    "    with open(f\"data/labels/{filename}\", \"r\") as f:\n",
    "        odc = [None] * 5\n",
    "        fovea = [None] * 5\n",
    "        for line in f.readlines():\n",
    "            pred = [float(number) for number in line.split()]\n",
    "            if pred[0]==0:\n",
    "                odc=pred[1:]\n",
    "            if pred[0]==1:\n",
    "                fovea=pred[1:]\n",
    "\n",
    "        record = [key,]\n",
    "        record.extend(odc)\n",
    "        record.extend(fovea)\n",
    "        records.append(tuple(record))\n",
    "\n",
    "df_to_join = pd.DataFrame.from_records(records, columns=[\n",
    "    'new_file',\n",
    "    'odc_x_ratio', 'odc_y_ratio', 'odc_width_ratio', 'odc_height_ratio', 'odc_conf',\n",
    "    'fovea_x_ratio', 'fovea_y_ratio', 'fovea_width_ratio', 'fovea_height_ratio', 'fovea_conf'])\n",
    "\n",
    "max_fovea = df_to_join.fovea_conf.max()\n",
    "max_odx = df_to_join.odc_conf.max()\n",
    "df = pd.merge(df.reset_index(), df_to_join, how='left', on='new_file')\n",
    "df"
   ]
  },
  {
   "cell_type": "markdown",
   "metadata": {},
   "source": [
    "## Calculate OD size and center on original image"
   ]
  },
  {
   "cell_type": "code",
   "execution_count": 17,
   "metadata": {},
   "outputs": [
    {
     "data": {
      "text/plain": "          orig_file   new_file  delta_x  delta_y  orig_crop_side  side  \\\n0      DEV13781.jpg  SHUF00000      176     -144            2272  2272   \n1      DEV12858.jpg  SHUF00001      -89     -904            3150  3150   \n2      DEV02899.jpg  SHUF00002      -59     -685            2486  2486   \n3      DEV12129.jpg  SHUF00003      168     -152            2256  2256   \n4      DEV04490.jpg  SHUF00004      -66     -886            3166  3166   \n...             ...        ...      ...      ...             ...   ...   \n14995  DEV04506.jpg  SHUF14995      -44     -905            3175  3175   \n14996  DEV12149.jpg  SHUF14996      -45     -857            3207  3207   \n14997  DEV00409.jpg  SHUF14997      -95     -870            2987  2987   \n14998  DEV01824.jpg  SHUF14998      197     -127            2338  2338   \n14999  DEV10476.jpg  SHUF14999      176     -144            2272  2272   \n\n       scaling  odc_x_ratio  odc_y_ratio  odc_width_ratio  ...  \\\n0          1.0     0.789844     0.457812         0.192188  ...   \n1          1.0     0.238281     0.442969         0.198437  ...   \n2          1.0     0.304688     0.441406         0.162500  ...   \n3          1.0     0.254687     0.442969         0.156250  ...   \n4          1.0     0.802344     0.489844         0.201562  ...   \n...        ...          ...          ...              ...  ...   \n14995      1.0     0.235156     0.472656         0.154687  ...   \n14996      1.0     0.257031     0.489844         0.192188  ...   \n14997      1.0     0.625781     0.466406         0.195312  ...   \n14998      1.0     0.753906     0.458594         0.151562  ...   \n14999      1.0     0.250000     0.434375         0.181250  ...   \n\n       fovea_height_ratio  fovea_conf  fovea_x_square  odc_x_square  \\\n0                0.212500    0.807168           893.0        1795.0   \n1                0.196875    0.793723          1929.0         751.0   \n2                0.162500    0.755753          1666.0         757.0   \n3                0.162500    0.737824          1373.0         575.0   \n4                0.196875    0.843570          1425.0        2540.0   \n...                   ...         ...             ...           ...   \n14995            0.171875    0.852776          1942.0         747.0   \n14996            0.200000    0.831810          1929.0         824.0   \n14997            0.207813    0.828260           658.0        1869.0   \n14998            0.153125    0.795078           921.0        1763.0   \n14999            0.175000    0.828155          1432.0         568.0   \n\n       fovea_y_square  odc_y_square  od_side_ratio_avg  odc_side_pxl  \\\n0              1140.0        1040.0           0.189844         431.0   \n1              1659.0        1395.0           0.199999         630.0   \n2              1259.0        1097.0           0.163281         406.0   \n3              1096.0         999.0           0.157031         354.0   \n4              1692.0        1551.0           0.201562         638.0   \n...               ...           ...                ...           ...   \n14995          1687.0        1501.0           0.153124         486.0   \n14996          1664.0        1571.0           0.193750         621.0   \n14997          1589.0        1393.0           0.193750         579.0   \n14998          1176.0        1072.0           0.154688         362.0   \n14999          1147.0         987.0           0.181250         412.0   \n\n       odc_x_rect  odc_y_rect  \n0          1971.0       896.0  \n1           662.0       491.0  \n2           698.0       412.0  \n3           743.0       847.0  \n4          2474.0       665.0  \n...           ...         ...  \n14995       703.0       596.0  \n14996       779.0       714.0  \n14997      1774.0       523.0  \n14998      1960.0       945.0  \n14999       744.0       843.0  \n\n[15000 rows x 25 columns]",
      "text/html": "<div>\n<style scoped>\n    .dataframe tbody tr th:only-of-type {\n        vertical-align: middle;\n    }\n\n    .dataframe tbody tr th {\n        vertical-align: top;\n    }\n\n    .dataframe thead th {\n        text-align: right;\n    }\n</style>\n<table border=\"1\" class=\"dataframe\">\n  <thead>\n    <tr style=\"text-align: right;\">\n      <th></th>\n      <th>orig_file</th>\n      <th>new_file</th>\n      <th>delta_x</th>\n      <th>delta_y</th>\n      <th>orig_crop_side</th>\n      <th>side</th>\n      <th>scaling</th>\n      <th>odc_x_ratio</th>\n      <th>odc_y_ratio</th>\n      <th>odc_width_ratio</th>\n      <th>...</th>\n      <th>fovea_height_ratio</th>\n      <th>fovea_conf</th>\n      <th>fovea_x_square</th>\n      <th>odc_x_square</th>\n      <th>fovea_y_square</th>\n      <th>odc_y_square</th>\n      <th>od_side_ratio_avg</th>\n      <th>odc_side_pxl</th>\n      <th>odc_x_rect</th>\n      <th>odc_y_rect</th>\n    </tr>\n  </thead>\n  <tbody>\n    <tr>\n      <th>0</th>\n      <td>DEV13781.jpg</td>\n      <td>SHUF00000</td>\n      <td>176</td>\n      <td>-144</td>\n      <td>2272</td>\n      <td>2272</td>\n      <td>1.0</td>\n      <td>0.789844</td>\n      <td>0.457812</td>\n      <td>0.192188</td>\n      <td>...</td>\n      <td>0.212500</td>\n      <td>0.807168</td>\n      <td>893.0</td>\n      <td>1795.0</td>\n      <td>1140.0</td>\n      <td>1040.0</td>\n      <td>0.189844</td>\n      <td>431.0</td>\n      <td>1971.0</td>\n      <td>896.0</td>\n    </tr>\n    <tr>\n      <th>1</th>\n      <td>DEV12858.jpg</td>\n      <td>SHUF00001</td>\n      <td>-89</td>\n      <td>-904</td>\n      <td>3150</td>\n      <td>3150</td>\n      <td>1.0</td>\n      <td>0.238281</td>\n      <td>0.442969</td>\n      <td>0.198437</td>\n      <td>...</td>\n      <td>0.196875</td>\n      <td>0.793723</td>\n      <td>1929.0</td>\n      <td>751.0</td>\n      <td>1659.0</td>\n      <td>1395.0</td>\n      <td>0.199999</td>\n      <td>630.0</td>\n      <td>662.0</td>\n      <td>491.0</td>\n    </tr>\n    <tr>\n      <th>2</th>\n      <td>DEV02899.jpg</td>\n      <td>SHUF00002</td>\n      <td>-59</td>\n      <td>-685</td>\n      <td>2486</td>\n      <td>2486</td>\n      <td>1.0</td>\n      <td>0.304688</td>\n      <td>0.441406</td>\n      <td>0.162500</td>\n      <td>...</td>\n      <td>0.162500</td>\n      <td>0.755753</td>\n      <td>1666.0</td>\n      <td>757.0</td>\n      <td>1259.0</td>\n      <td>1097.0</td>\n      <td>0.163281</td>\n      <td>406.0</td>\n      <td>698.0</td>\n      <td>412.0</td>\n    </tr>\n    <tr>\n      <th>3</th>\n      <td>DEV12129.jpg</td>\n      <td>SHUF00003</td>\n      <td>168</td>\n      <td>-152</td>\n      <td>2256</td>\n      <td>2256</td>\n      <td>1.0</td>\n      <td>0.254687</td>\n      <td>0.442969</td>\n      <td>0.156250</td>\n      <td>...</td>\n      <td>0.162500</td>\n      <td>0.737824</td>\n      <td>1373.0</td>\n      <td>575.0</td>\n      <td>1096.0</td>\n      <td>999.0</td>\n      <td>0.157031</td>\n      <td>354.0</td>\n      <td>743.0</td>\n      <td>847.0</td>\n    </tr>\n    <tr>\n      <th>4</th>\n      <td>DEV04490.jpg</td>\n      <td>SHUF00004</td>\n      <td>-66</td>\n      <td>-886</td>\n      <td>3166</td>\n      <td>3166</td>\n      <td>1.0</td>\n      <td>0.802344</td>\n      <td>0.489844</td>\n      <td>0.201562</td>\n      <td>...</td>\n      <td>0.196875</td>\n      <td>0.843570</td>\n      <td>1425.0</td>\n      <td>2540.0</td>\n      <td>1692.0</td>\n      <td>1551.0</td>\n      <td>0.201562</td>\n      <td>638.0</td>\n      <td>2474.0</td>\n      <td>665.0</td>\n    </tr>\n    <tr>\n      <th>...</th>\n      <td>...</td>\n      <td>...</td>\n      <td>...</td>\n      <td>...</td>\n      <td>...</td>\n      <td>...</td>\n      <td>...</td>\n      <td>...</td>\n      <td>...</td>\n      <td>...</td>\n      <td>...</td>\n      <td>...</td>\n      <td>...</td>\n      <td>...</td>\n      <td>...</td>\n      <td>...</td>\n      <td>...</td>\n      <td>...</td>\n      <td>...</td>\n      <td>...</td>\n      <td>...</td>\n    </tr>\n    <tr>\n      <th>14995</th>\n      <td>DEV04506.jpg</td>\n      <td>SHUF14995</td>\n      <td>-44</td>\n      <td>-905</td>\n      <td>3175</td>\n      <td>3175</td>\n      <td>1.0</td>\n      <td>0.235156</td>\n      <td>0.472656</td>\n      <td>0.154687</td>\n      <td>...</td>\n      <td>0.171875</td>\n      <td>0.852776</td>\n      <td>1942.0</td>\n      <td>747.0</td>\n      <td>1687.0</td>\n      <td>1501.0</td>\n      <td>0.153124</td>\n      <td>486.0</td>\n      <td>703.0</td>\n      <td>596.0</td>\n    </tr>\n    <tr>\n      <th>14996</th>\n      <td>DEV12149.jpg</td>\n      <td>SHUF14996</td>\n      <td>-45</td>\n      <td>-857</td>\n      <td>3207</td>\n      <td>3207</td>\n      <td>1.0</td>\n      <td>0.257031</td>\n      <td>0.489844</td>\n      <td>0.192188</td>\n      <td>...</td>\n      <td>0.200000</td>\n      <td>0.831810</td>\n      <td>1929.0</td>\n      <td>824.0</td>\n      <td>1664.0</td>\n      <td>1571.0</td>\n      <td>0.193750</td>\n      <td>621.0</td>\n      <td>779.0</td>\n      <td>714.0</td>\n    </tr>\n    <tr>\n      <th>14997</th>\n      <td>DEV00409.jpg</td>\n      <td>SHUF14997</td>\n      <td>-95</td>\n      <td>-870</td>\n      <td>2987</td>\n      <td>2987</td>\n      <td>1.0</td>\n      <td>0.625781</td>\n      <td>0.466406</td>\n      <td>0.195312</td>\n      <td>...</td>\n      <td>0.207813</td>\n      <td>0.828260</td>\n      <td>658.0</td>\n      <td>1869.0</td>\n      <td>1589.0</td>\n      <td>1393.0</td>\n      <td>0.193750</td>\n      <td>579.0</td>\n      <td>1774.0</td>\n      <td>523.0</td>\n    </tr>\n    <tr>\n      <th>14998</th>\n      <td>DEV01824.jpg</td>\n      <td>SHUF14998</td>\n      <td>197</td>\n      <td>-127</td>\n      <td>2338</td>\n      <td>2338</td>\n      <td>1.0</td>\n      <td>0.753906</td>\n      <td>0.458594</td>\n      <td>0.151562</td>\n      <td>...</td>\n      <td>0.153125</td>\n      <td>0.795078</td>\n      <td>921.0</td>\n      <td>1763.0</td>\n      <td>1176.0</td>\n      <td>1072.0</td>\n      <td>0.154688</td>\n      <td>362.0</td>\n      <td>1960.0</td>\n      <td>945.0</td>\n    </tr>\n    <tr>\n      <th>14999</th>\n      <td>DEV10476.jpg</td>\n      <td>SHUF14999</td>\n      <td>176</td>\n      <td>-144</td>\n      <td>2272</td>\n      <td>2272</td>\n      <td>1.0</td>\n      <td>0.250000</td>\n      <td>0.434375</td>\n      <td>0.181250</td>\n      <td>...</td>\n      <td>0.175000</td>\n      <td>0.828155</td>\n      <td>1432.0</td>\n      <td>568.0</td>\n      <td>1147.0</td>\n      <td>987.0</td>\n      <td>0.181250</td>\n      <td>412.0</td>\n      <td>744.0</td>\n      <td>843.0</td>\n    </tr>\n  </tbody>\n</table>\n<p>15000 rows × 25 columns</p>\n</div>"
     },
     "execution_count": 17,
     "metadata": {},
     "output_type": "execute_result"
    }
   ],
   "source": [
    "df[\"fovea_x_square\"] = round(df.orig_crop_side * df.fovea_x_ratio, 0)\n",
    "df[\"odc_x_square\"] = round(df.orig_crop_side * df.odc_x_ratio, 0)\n",
    "df[\"fovea_y_square\"] = round(df.orig_crop_side * df.fovea_y_ratio, 0)\n",
    "df[\"odc_y_square\"] = round(df.orig_crop_side * df.odc_y_ratio, 0)\n",
    "df[\"od_side_ratio_avg\"] = (df.odc_height_ratio + df.odc_width_ratio)/2\n",
    "df[\"odc_side_pxl\"] = round(df.orig_crop_side * df.od_side_ratio_avg, 0)\n",
    "df[\"odc_x_rect\"] = df.odc_x_square + df.delta_x\n",
    "df[\"odc_y_rect\"] = df.odc_y_square + df.delta_y\n",
    "\n",
    "df"
   ]
  },
  {
   "cell_type": "code",
   "execution_count": 18,
   "metadata": {},
   "outputs": [],
   "source": [
    "df.to_csv(\"data/img_info_extended.csv\")"
   ]
  },
  {
   "cell_type": "code",
   "execution_count": 19,
   "metadata": {},
   "outputs": [
    {
     "data": {
      "text/plain": "          orig_file   new_file  delta_x  delta_y  orig_crop_side  side  \\\n0      DEV13781.jpg  SHUF00000      176     -144            2272  2272   \n1      DEV12858.jpg  SHUF00001      -89     -904            3150  3150   \n2      DEV02899.jpg  SHUF00002      -59     -685            2486  2486   \n3      DEV12129.jpg  SHUF00003      168     -152            2256  2256   \n4      DEV04490.jpg  SHUF00004      -66     -886            3166  3166   \n...             ...        ...      ...      ...             ...   ...   \n14995  DEV04506.jpg  SHUF14995      -44     -905            3175  3175   \n14996  DEV12149.jpg  SHUF14996      -45     -857            3207  3207   \n14997  DEV00409.jpg  SHUF14997      -95     -870            2987  2987   \n14998  DEV01824.jpg  SHUF14998      197     -127            2338  2338   \n14999  DEV10476.jpg  SHUF14999      176     -144            2272  2272   \n\n       scaling  odc_x_ratio  odc_y_ratio  odc_width_ratio  ...  \\\n0          1.0     0.789844     0.457812         0.192188  ...   \n1          1.0     0.238281     0.442969         0.198437  ...   \n2          1.0     0.304688     0.441406         0.162500  ...   \n3          1.0     0.254687     0.442969         0.156250  ...   \n4          1.0     0.802344     0.489844         0.201562  ...   \n...        ...          ...          ...              ...  ...   \n14995      1.0     0.235156     0.472656         0.154687  ...   \n14996      1.0     0.257031     0.489844         0.192188  ...   \n14997      1.0     0.625781     0.466406         0.195312  ...   \n14998      1.0     0.753906     0.458594         0.151562  ...   \n14999      1.0     0.250000     0.434375         0.181250  ...   \n\n       fovea_height_ratio  fovea_conf  fovea_x_square  odc_x_square  \\\n0                0.212500    0.807168           893.0        1795.0   \n1                0.196875    0.793723          1929.0         751.0   \n2                0.162500    0.755753          1666.0         757.0   \n3                0.162500    0.737824          1373.0         575.0   \n4                0.196875    0.843570          1425.0        2540.0   \n...                   ...         ...             ...           ...   \n14995            0.171875    0.852776          1942.0         747.0   \n14996            0.200000    0.831810          1929.0         824.0   \n14997            0.207813    0.828260           658.0        1869.0   \n14998            0.153125    0.795078           921.0        1763.0   \n14999            0.175000    0.828155          1432.0         568.0   \n\n       fovea_y_square  odc_y_square  od_side_ratio_avg  odc_side_pxl  \\\n0              1140.0        1040.0           0.189844         431.0   \n1              1659.0        1395.0           0.199999         630.0   \n2              1259.0        1097.0           0.163281         406.0   \n3              1096.0         999.0           0.157031         354.0   \n4              1692.0        1551.0           0.201562         638.0   \n...               ...           ...                ...           ...   \n14995          1687.0        1501.0           0.153124         486.0   \n14996          1664.0        1571.0           0.193750         621.0   \n14997          1589.0        1393.0           0.193750         579.0   \n14998          1176.0        1072.0           0.154688         362.0   \n14999          1147.0         987.0           0.181250         412.0   \n\n       odc_x_rect  odc_y_rect  \n0          1971.0       896.0  \n1           662.0       491.0  \n2           698.0       412.0  \n3           743.0       847.0  \n4          2474.0       665.0  \n...           ...         ...  \n14995       703.0       596.0  \n14996       779.0       714.0  \n14997      1774.0       523.0  \n14998      1960.0       945.0  \n14999       744.0       843.0  \n\n[15000 rows x 25 columns]",
      "text/html": "<div>\n<style scoped>\n    .dataframe tbody tr th:only-of-type {\n        vertical-align: middle;\n    }\n\n    .dataframe tbody tr th {\n        vertical-align: top;\n    }\n\n    .dataframe thead th {\n        text-align: right;\n    }\n</style>\n<table border=\"1\" class=\"dataframe\">\n  <thead>\n    <tr style=\"text-align: right;\">\n      <th></th>\n      <th>orig_file</th>\n      <th>new_file</th>\n      <th>delta_x</th>\n      <th>delta_y</th>\n      <th>orig_crop_side</th>\n      <th>side</th>\n      <th>scaling</th>\n      <th>odc_x_ratio</th>\n      <th>odc_y_ratio</th>\n      <th>odc_width_ratio</th>\n      <th>...</th>\n      <th>fovea_height_ratio</th>\n      <th>fovea_conf</th>\n      <th>fovea_x_square</th>\n      <th>odc_x_square</th>\n      <th>fovea_y_square</th>\n      <th>odc_y_square</th>\n      <th>od_side_ratio_avg</th>\n      <th>odc_side_pxl</th>\n      <th>odc_x_rect</th>\n      <th>odc_y_rect</th>\n    </tr>\n  </thead>\n  <tbody>\n    <tr>\n      <th>0</th>\n      <td>DEV13781.jpg</td>\n      <td>SHUF00000</td>\n      <td>176</td>\n      <td>-144</td>\n      <td>2272</td>\n      <td>2272</td>\n      <td>1.0</td>\n      <td>0.789844</td>\n      <td>0.457812</td>\n      <td>0.192188</td>\n      <td>...</td>\n      <td>0.212500</td>\n      <td>0.807168</td>\n      <td>893.0</td>\n      <td>1795.0</td>\n      <td>1140.0</td>\n      <td>1040.0</td>\n      <td>0.189844</td>\n      <td>431.0</td>\n      <td>1971.0</td>\n      <td>896.0</td>\n    </tr>\n    <tr>\n      <th>1</th>\n      <td>DEV12858.jpg</td>\n      <td>SHUF00001</td>\n      <td>-89</td>\n      <td>-904</td>\n      <td>3150</td>\n      <td>3150</td>\n      <td>1.0</td>\n      <td>0.238281</td>\n      <td>0.442969</td>\n      <td>0.198437</td>\n      <td>...</td>\n      <td>0.196875</td>\n      <td>0.793723</td>\n      <td>1929.0</td>\n      <td>751.0</td>\n      <td>1659.0</td>\n      <td>1395.0</td>\n      <td>0.199999</td>\n      <td>630.0</td>\n      <td>662.0</td>\n      <td>491.0</td>\n    </tr>\n    <tr>\n      <th>2</th>\n      <td>DEV02899.jpg</td>\n      <td>SHUF00002</td>\n      <td>-59</td>\n      <td>-685</td>\n      <td>2486</td>\n      <td>2486</td>\n      <td>1.0</td>\n      <td>0.304688</td>\n      <td>0.441406</td>\n      <td>0.162500</td>\n      <td>...</td>\n      <td>0.162500</td>\n      <td>0.755753</td>\n      <td>1666.0</td>\n      <td>757.0</td>\n      <td>1259.0</td>\n      <td>1097.0</td>\n      <td>0.163281</td>\n      <td>406.0</td>\n      <td>698.0</td>\n      <td>412.0</td>\n    </tr>\n    <tr>\n      <th>3</th>\n      <td>DEV12129.jpg</td>\n      <td>SHUF00003</td>\n      <td>168</td>\n      <td>-152</td>\n      <td>2256</td>\n      <td>2256</td>\n      <td>1.0</td>\n      <td>0.254687</td>\n      <td>0.442969</td>\n      <td>0.156250</td>\n      <td>...</td>\n      <td>0.162500</td>\n      <td>0.737824</td>\n      <td>1373.0</td>\n      <td>575.0</td>\n      <td>1096.0</td>\n      <td>999.0</td>\n      <td>0.157031</td>\n      <td>354.0</td>\n      <td>743.0</td>\n      <td>847.0</td>\n    </tr>\n    <tr>\n      <th>4</th>\n      <td>DEV04490.jpg</td>\n      <td>SHUF00004</td>\n      <td>-66</td>\n      <td>-886</td>\n      <td>3166</td>\n      <td>3166</td>\n      <td>1.0</td>\n      <td>0.802344</td>\n      <td>0.489844</td>\n      <td>0.201562</td>\n      <td>...</td>\n      <td>0.196875</td>\n      <td>0.843570</td>\n      <td>1425.0</td>\n      <td>2540.0</td>\n      <td>1692.0</td>\n      <td>1551.0</td>\n      <td>0.201562</td>\n      <td>638.0</td>\n      <td>2474.0</td>\n      <td>665.0</td>\n    </tr>\n    <tr>\n      <th>...</th>\n      <td>...</td>\n      <td>...</td>\n      <td>...</td>\n      <td>...</td>\n      <td>...</td>\n      <td>...</td>\n      <td>...</td>\n      <td>...</td>\n      <td>...</td>\n      <td>...</td>\n      <td>...</td>\n      <td>...</td>\n      <td>...</td>\n      <td>...</td>\n      <td>...</td>\n      <td>...</td>\n      <td>...</td>\n      <td>...</td>\n      <td>...</td>\n      <td>...</td>\n      <td>...</td>\n    </tr>\n    <tr>\n      <th>14995</th>\n      <td>DEV04506.jpg</td>\n      <td>SHUF14995</td>\n      <td>-44</td>\n      <td>-905</td>\n      <td>3175</td>\n      <td>3175</td>\n      <td>1.0</td>\n      <td>0.235156</td>\n      <td>0.472656</td>\n      <td>0.154687</td>\n      <td>...</td>\n      <td>0.171875</td>\n      <td>0.852776</td>\n      <td>1942.0</td>\n      <td>747.0</td>\n      <td>1687.0</td>\n      <td>1501.0</td>\n      <td>0.153124</td>\n      <td>486.0</td>\n      <td>703.0</td>\n      <td>596.0</td>\n    </tr>\n    <tr>\n      <th>14996</th>\n      <td>DEV12149.jpg</td>\n      <td>SHUF14996</td>\n      <td>-45</td>\n      <td>-857</td>\n      <td>3207</td>\n      <td>3207</td>\n      <td>1.0</td>\n      <td>0.257031</td>\n      <td>0.489844</td>\n      <td>0.192188</td>\n      <td>...</td>\n      <td>0.200000</td>\n      <td>0.831810</td>\n      <td>1929.0</td>\n      <td>824.0</td>\n      <td>1664.0</td>\n      <td>1571.0</td>\n      <td>0.193750</td>\n      <td>621.0</td>\n      <td>779.0</td>\n      <td>714.0</td>\n    </tr>\n    <tr>\n      <th>14997</th>\n      <td>DEV00409.jpg</td>\n      <td>SHUF14997</td>\n      <td>-95</td>\n      <td>-870</td>\n      <td>2987</td>\n      <td>2987</td>\n      <td>1.0</td>\n      <td>0.625781</td>\n      <td>0.466406</td>\n      <td>0.195312</td>\n      <td>...</td>\n      <td>0.207813</td>\n      <td>0.828260</td>\n      <td>658.0</td>\n      <td>1869.0</td>\n      <td>1589.0</td>\n      <td>1393.0</td>\n      <td>0.193750</td>\n      <td>579.0</td>\n      <td>1774.0</td>\n      <td>523.0</td>\n    </tr>\n    <tr>\n      <th>14998</th>\n      <td>DEV01824.jpg</td>\n      <td>SHUF14998</td>\n      <td>197</td>\n      <td>-127</td>\n      <td>2338</td>\n      <td>2338</td>\n      <td>1.0</td>\n      <td>0.753906</td>\n      <td>0.458594</td>\n      <td>0.151562</td>\n      <td>...</td>\n      <td>0.153125</td>\n      <td>0.795078</td>\n      <td>921.0</td>\n      <td>1763.0</td>\n      <td>1176.0</td>\n      <td>1072.0</td>\n      <td>0.154688</td>\n      <td>362.0</td>\n      <td>1960.0</td>\n      <td>945.0</td>\n    </tr>\n    <tr>\n      <th>14999</th>\n      <td>DEV10476.jpg</td>\n      <td>SHUF14999</td>\n      <td>176</td>\n      <td>-144</td>\n      <td>2272</td>\n      <td>2272</td>\n      <td>1.0</td>\n      <td>0.250000</td>\n      <td>0.434375</td>\n      <td>0.181250</td>\n      <td>...</td>\n      <td>0.175000</td>\n      <td>0.828155</td>\n      <td>1432.0</td>\n      <td>568.0</td>\n      <td>1147.0</td>\n      <td>987.0</td>\n      <td>0.181250</td>\n      <td>412.0</td>\n      <td>744.0</td>\n      <td>843.0</td>\n    </tr>\n  </tbody>\n</table>\n<p>15000 rows × 25 columns</p>\n</div>"
     },
     "execution_count": 19,
     "metadata": {},
     "output_type": "execute_result"
    }
   ],
   "source": [
    "df = pd.read_csv(\"data/img_info_extended.csv\", index_col=0)\n",
    "df"
   ]
  },
  {
   "cell_type": "markdown",
   "metadata": {},
   "source": [
    "## Crop original images"
   ]
  },
  {
   "cell_type": "code",
   "execution_count": 20,
   "metadata": {},
   "outputs": [
    {
     "name": "stderr",
     "output_type": "stream",
     "text": [
      "100%|██████████| 15000/15000 [02:16<00:00, 109.86it/s]"
     ]
    },
    {
     "name": "stdout",
     "output_type": "stream",
     "text": [
      "Finished.\n"
     ]
    },
    {
     "name": "stderr",
     "output_type": "stream",
     "text": [
      "\n"
     ]
    }
   ],
   "source": [
    "FACTOR = 1.5\n",
    "THRESHOLD = 10\n",
    "MULTIPROCESSING_WORKERS = 8\n",
    "RESOLUTION = 224\n",
    "INTERPOLATION_METHOD = cv2.INTER_LINEAR\n",
    "DATA_DIR = f'./data/ods_center_{FACTOR}_{RESOLUTION}_{INTERPOLATION_METHOD}'\n",
    "if not os.path.isdir(DATA_DIR):\n",
    "    print(f'{DATA_DIR} does not exist, creating dir')\n",
    "    os.mkdir(DATA_DIR)\n",
    "\n",
    "def process_file(filename):\n",
    "    img = cv2.imread(f\"data/cfp/{filename}\")\n",
    "    img_data = df.loc[df.orig_file == filename]\n",
    "    write_filename = f'{img_data.new_file.values[0]}.png'\n",
    "    if img_data.odc_x_rect.isna().values[0]:\n",
    "        # TODO: This is not correct, a separate model should be trained for images without an optic disc being detected\n",
    "        img_square, _, _ = ppc.make_square(img, THRESHOLD)\n",
    "        img_res = ppc.resize_square(img_square, RESOLUTION)\n",
    "        cv2.imwrite(f\"{DATA_DIR}/{write_filename}\", img_res)\n",
    "    else:\n",
    "        add_top = (img.shape[0] - img_data.side)/2\n",
    "        add_left = (img.shape[1] - img_data.side)/2\n",
    "        odc_x_rect = int(img_data.odc_x_square.values[0] + add_left)\n",
    "        odc_y_rect = int(img_data.odc_y_square.values[0] + add_top)\n",
    "\n",
    "        #od = ppc.crop_od(img, odc_x_rect, odc_y_rect, int(img_data.odc_side_pxl.values[0]*FACTOR))\n",
    "        od = ppc.crop_od_fill_if_needed(img, odc_x_rect, odc_y_rect, int(img_data.odc_side_pxl.values[0]*FACTOR))\n",
    "\n",
    "        od_res = ppc.resize_square(od, RESOLUTION)\n",
    "        #print(write_filename)\n",
    "        cv2.imwrite(f\"{DATA_DIR}/{write_filename}\", od_res) # png because it is lossless\n",
    "\n",
    "cfp_files = os.listdir(\"data/cfp\")\n",
    "if MULTIPROCESSING_WORKERS > 1:\n",
    "    from multiprocessing import Pool\n",
    "    with Pool(MULTIPROCESSING_WORKERS) as pool:\n",
    "        op_metadata = list(tqdm(pool.imap(process_file, cfp_files), total=len(cfp_files)))\n",
    "    print('Finished.')\n",
    "else:\n",
    "    for filename in tqdm(os.listdir(\"data/cfp\")):\n",
    "        process_file(filename)"
   ]
  },
  {
   "cell_type": "code",
   "execution_count": 20,
   "metadata": {},
   "outputs": [],
   "source": []
  }
 ],
 "metadata": {
  "kernelspec": {
   "display_name": "Python 3.10.6 ('airogs')",
   "language": "python",
   "name": "python3"
  },
  "language_info": {
   "codemirror_mode": {
    "name": "ipython",
    "version": 3
   },
   "file_extension": ".py",
   "mimetype": "text/x-python",
   "name": "python",
   "nbconvert_exporter": "python",
   "pygments_lexer": "ipython3",
   "version": "3.10.6"
  },
  "orig_nbformat": 4,
  "vscode": {
   "interpreter": {
    "hash": "061bd6094ad0c8a3908ed2966c1aa3f09fb3cf99cdbbdc5979d65ee9ea258955"
   }
  }
 },
 "nbformat": 4,
 "nbformat_minor": 2
}
