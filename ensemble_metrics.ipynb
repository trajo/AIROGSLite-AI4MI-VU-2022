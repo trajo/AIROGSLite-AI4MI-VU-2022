{
 "cells": [
  {
   "cell_type": "code",
   "execution_count": 1,
   "outputs": [],
   "source": [
    "import numpy as np\n",
    "import pandas as pd\n",
    "from sys import float_info\n",
    "from sklearn import metrics\n",
    "import os"
   ],
   "metadata": {
    "collapsed": false
   }
  },
  {
   "cell_type": "code",
   "execution_count": 2,
   "metadata": {
    "collapsed": true
   },
   "outputs": [],
   "source": [
    "def get_partial_auc_roc(labels, predictions):\n",
    "    min_spec = 0.9\n",
    "    p_aucroc = metrics.roc_auc_score(labels, predictions, max_fpr=(1 - min_spec))\n",
    "    return p_aucroc"
   ]
  },
  {
   "cell_type": "code",
   "execution_count": 3,
   "outputs": [],
   "source": [
    "def screening_sens_at_spec(labels, predictions, at_spec=0.95, eps=float_info.epsilon):\n",
    "    y_true = labels\n",
    "    y_pred = predictions\n",
    "\n",
    "    fpr, tpr, threshes = metrics.roc_curve(y_true, y_pred, drop_intermediate=False)\n",
    "    spec = 1 - fpr\n",
    "\n",
    "    operating_points_with_good_spec = spec >= (at_spec - eps)\n",
    "    max_tpr = tpr[operating_points_with_good_spec][-1]\n",
    "\n",
    "    operating_point = np.argwhere(operating_points_with_good_spec).squeeze()[-1]\n",
    "    operating_tpr = tpr[operating_point]\n",
    "\n",
    "    assert max_tpr == operating_tpr or (\n",
    "            np.isnan(max_tpr) and np.isnan(operating_tpr)), f'{max_tpr} != {operating_tpr}'\n",
    "    assert max_tpr == max(tpr[operating_points_with_good_spec]) or (\n",
    "            np.isnan(max_tpr) and max(tpr[operating_points_with_good_spec])), \\\n",
    "        f'{max_tpr} == {max(tpr[operating_points_with_good_spec])}'\n",
    "\n",
    "    return max_tpr"
   ],
   "metadata": {
    "collapsed": false
   }
  },
  {
   "cell_type": "code",
   "execution_count": 4,
   "outputs": [],
   "source": [
    "def _get_predition_joined_df(exp_dir, exp_id):\n",
    "    prediction_files = [fn for fn in os.listdir(exp_dir) if fn.startswith('prediction') and exp_id in fn]\n",
    "    dfs = []\n",
    "    for fn in prediction_files:\n",
    "        df = pd.read_csv(os.path.join(exp_dir, fn), index_col=0).set_index('filename')\n",
    "        dfs.append(df)\n",
    "\n",
    "    df_joined = dfs[0].labels\n",
    "    for i, df in enumerate(dfs):\n",
    "        df_joined = pd.merge(df_joined, df['predictions'].rename(f'pred_{i}'), left_index=True, right_index=True)\n",
    "\n",
    "    df_joined['ensamble_prediction'] = df_joined.iloc[:, 1:].mean(axis=1)\n",
    "    return df_joined"
   ],
   "metadata": {
    "collapsed": false
   }
  },
  {
   "cell_type": "code",
   "execution_count": 5,
   "outputs": [],
   "source": [
    "def get_metrics(exp_desc, exp_dir, exp_id):\n",
    "    df_joined = _get_predition_joined_df(exp_dir, exp_id)\n",
    "    pauroc = get_partial_auc_roc(df_joined.labels, df_joined.ensamble_prediction)\n",
    "    sens_at_95_spec = screening_sens_at_spec(df_joined.labels, df_joined.ensamble_prediction)\n",
    "    print(f'{exp_desc} ... pauroc {pauroc} ... sens_at_95_spec {sens_at_95_spec}')"
   ],
   "metadata": {
    "collapsed": false
   }
  },
  {
   "cell_type": "code",
   "execution_count": 6,
   "outputs": [
    {
     "name": "stdout",
     "output_type": "stream",
     "text": [
      "=== exp rutger ===\n",
      "yolo baseline OD 1.2 ... pauroc 0.94279176201373 ... sens_at_95_spec 0.919732441471572\n",
      "yolo tuned OD 1.2 ... pauroc 0.94279176201373 ... sens_at_95_spec 0.919732441471572\n",
      "\n",
      "=== exp equalisation ===\n",
      "IgnoreBlack OD 1.2 ... pauroc 0.9143601033225481 ... sens_at_95_spec 0.886435331230284\n",
      "Yes OD 1.2 ... pauroc 0.9068447907183537 ... sens_at_95_spec 0.8643533123028391\n",
      "\n",
      "=== exp crops ===\n",
      "OD 2.0 ... pauroc 0.932744761783781 ... sens_at_95_spec 0.9053627760252366\n",
      "OD 1.5 ... pauroc 0.9409274143375079 ... sens_at_95_spec 0.9274447949526814\n",
      "OD 1.2 ... pauroc 0.9409732243154907 ... sens_at_95_spec 0.9053627760252366\n",
      "OD 1.0 ... pauroc 0.940666173652255 ... sens_at_95_spec 0.917981072555205\n",
      "FOV 1.2 ... pauroc 0.938876913388477 ... sens_at_95_spec 0.9212598425196851\n",
      "no crop ... pauroc 0.8906552968777529 ... sens_at_95_spec 0.8391167192429022\n",
      "\n",
      "=== exp label smoothing ===\n",
      "base,   OD 1.5 ... pauroc 0.9409274143375079 ... sens_at_95_spec 0.9274447949526814\n",
      "LS 0.1, OD 1.5 ... pauroc 0.9380314808644914 ... sens_at_95_spec 0.9148264984227129\n",
      "LS 0.5, OD 1.5 ... pauroc 0.932531807291537 ... sens_at_95_spec 0.9053627760252366\n",
      "\n",
      "=== exp class imbalance ===\n",
      "base,                   OD 1.5 ... pauroc 0.9409274143375079 ... sens_at_95_spec 0.9274447949526814\n",
      "FL alpha=0.50, gamma=2, OD 1.5 ... pauroc 0.9404272189022369 ... sens_at_95_spec 0.9085173501577287\n",
      "FL alpha=0.66, gamma=2, OD 1.5 ... pauroc 0.939056633885294 ... sens_at_95_spec 0.917981072555205\n",
      "\n",
      "=== exp aug rotations ===\n",
      "base,   OD 1.5 ... pauroc 0.9409274143375079 ... sens_at_95_spec 0.9274447949526814\n",
      "rot 10, OD 1.5 ... pauroc 0.9439904923247858 ... sens_at_95_spec 0.9148264984227129\n",
      "rot 20, OD 1.5 ... pauroc 0.9413446565694048 ... sens_at_95_spec 0.9211356466876972\n",
      "rot 40, OD 1.5 ... pauroc 0.9367624206636183 ... sens_at_95_spec 0.9116719242902208\n",
      "\n",
      "=== exp aug translations ===\n",
      "base,      OD 1.5 ... pauroc 0.9409274143375079 ... sens_at_95_spec 0.9274447949526814\n",
      "trans 0.1, OD 1.5 ... pauroc 0.9409917959281864 ... sens_at_95_spec 0.9148264984227129\n",
      "trans 0.2, OD 1.5 ... pauroc 0.9427214321239128 ... sens_at_95_spec 0.9116719242902208\n",
      "trans 0.4, OD 1.5 ... pauroc 0.9381639583683872 ... sens_at_95_spec 0.9116719242902208\n",
      "\n",
      "=== exp aug scale ===\n",
      "base,      OD 1.5 ... pauroc 0.9409274143375079 ... sens_at_95_spec 0.9274447949526814\n",
      "scale 0.1, OD 1.5 ... pauroc 0.9462760387938705 ... sens_at_95_spec 0.9305993690851735\n",
      "scale 0.2, OD 1.5 ... pauroc 0.9440239212276381 ... sens_at_95_spec 0.9242902208201893\n",
      "scale 0.3, OD 1.5 ... pauroc 0.9392101592169118 ... sens_at_95_spec 0.9053627760252366\n",
      "\n",
      "=== exp crop finetuning ===\n",
      "OD 1.4 ... pauroc 0.9448324054336577 ... sens_at_95_spec 0.9085173501577287\n",
      "OD 1.5 ... pauroc 0.9440499214854121 ... sens_at_95_spec 0.9211356466876972\n",
      "OD 1.6 ... pauroc 0.9455121264583204 ... sens_at_95_spec 0.9242902208201893\n",
      "\n"
     ]
    }
   ],
   "source": [
    "print('=== exp rutger ===')\n",
    "get_metrics('yolo baseline OD 1.2', 'exp_rutger', 'h0b29272b94d2f51a')\n",
    "get_metrics('yolo tuned OD 1.2', 'exp_rutger', 'h0b29272b94d2f51a')\n",
    "print()\n",
    "\n",
    "print('=== exp equalisation ===')\n",
    "get_metrics('IgnoreBlack OD 1.2', 'exp_equalisation', 'h699162adab7f35c3')\n",
    "get_metrics('Yes OD 1.2', 'exp_equalisation', 'h76044e9d122a305e')\n",
    "print()\n",
    "\n",
    "print('=== exp crops ===')\n",
    "get_metrics('OD 2.0', 'exp_crops', 'h2a932ca21a6567b5')\n",
    "get_metrics('OD 1.5', 'exp_crops', 'h8e023b47e3641bb7')\n",
    "get_metrics('OD 1.2', 'exp_crops', 'h5d2652f50e1bd942')\n",
    "get_metrics('OD 1.0', 'exp_crops', 'hec9dc788fd725a32')\n",
    "get_metrics('FOV 1.2', 'exp_crops', 'h5e77f73fb6cb1d37')\n",
    "get_metrics('no crop', 'exp_crops', 'h76f5996b2c96146a')\n",
    "print()\n",
    "\n",
    "print('=== exp label smoothing ===')\n",
    "get_metrics('base,   OD 1.5', 'exp_crops', 'h8e023b47e3641bb7')\n",
    "get_metrics('LS 0.1, OD 1.5', 'exp_label_smoothing', 'h07af68425afb3d25')\n",
    "get_metrics('LS 0.5, OD 1.5', 'exp_label_smoothing', 'hbe0385eca404c827')\n",
    "print()\n",
    "\n",
    "print('=== exp class imbalance ===')\n",
    "get_metrics('base,                   OD 1.5', 'exp_crops', 'h8e023b47e3641bb7')\n",
    "get_metrics('FL alpha=0.50, gamma=2, OD 1.5', 'exp_class_imbalance', 'h7610d694a6a38511')\n",
    "get_metrics('FL alpha=0.66, gamma=2, OD 1.5', 'exp_class_imbalance', 'h08194bb70b6cd18c')\n",
    "print()\n",
    "\n",
    "print('=== exp aug rotations ===')\n",
    "get_metrics('base,   OD 1.5', 'exp_crops', 'h8e023b47e3641bb7')\n",
    "get_metrics('rot 10, OD 1.5', 'exp_rotations', 'h80e50dc8930f5af6')\n",
    "get_metrics('rot 20, OD 1.5', 'exp_rotations', 'h1f9e2f2bd7c8736d')\n",
    "get_metrics('rot 40, OD 1.5', 'exp_rotations', 'h458a6e2eae2eb24b')\n",
    "print()\n",
    "\n",
    "print('=== exp aug translations ===')\n",
    "get_metrics('base,      OD 1.5', 'exp_crops', 'h8e023b47e3641bb7')\n",
    "get_metrics('trans 0.1, OD 1.5', 'exp_translations', 'h71d58c99ab50c2e6')\n",
    "get_metrics('trans 0.2, OD 1.5', 'exp_translations', 'hee6293b663deaf96')\n",
    "get_metrics('trans 0.4, OD 1.5', 'exp_translations', 'h275dd8fff7dcdfcb')\n",
    "print()\n",
    "\n",
    "print('=== exp aug scale ===')\n",
    "get_metrics('base,      OD 1.5', 'exp_crops', 'h8e023b47e3641bb7')\n",
    "get_metrics('scale 0.1, OD 1.5', 'exp_aug_scale', 'h2faf4dc885212e0a')\n",
    "get_metrics('scale 0.2, OD 1.5', 'exp_aug_scale', 'h20a4622db1030415')\n",
    "get_metrics('scale 0.3, OD 1.5', 'exp_aug_scale', 'h9d3fe6e7b588c20f')\n",
    "print()\n",
    "\n",
    "print('=== exp crop finetuning ===')\n",
    "get_metrics('OD 1.4', 'exp_crop_finetuning', 'ha21122c64b5683dc')\n",
    "get_metrics('OD 1.5', 'exp_crop_finetuning', 'h6d2ee23d32630cd4')\n",
    "get_metrics('OD 1.6', 'exp_crop_finetuning', 'ha133aee1531aa717')\n",
    "print()\n"
   ],
   "metadata": {
    "collapsed": false
   }
  },
  {
   "cell_type": "code",
   "execution_count": 6,
   "outputs": [],
   "source": [],
   "metadata": {
    "collapsed": false
   }
  }
 ],
 "metadata": {
  "kernelspec": {
   "display_name": "Python 3",
   "language": "python",
   "name": "python3"
  },
  "language_info": {
   "codemirror_mode": {
    "name": "ipython",
    "version": 2
   },
   "file_extension": ".py",
   "mimetype": "text/x-python",
   "name": "python",
   "nbconvert_exporter": "python",
   "pygments_lexer": "ipython2",
   "version": "2.7.6"
  }
 },
 "nbformat": 4,
 "nbformat_minor": 0
}
