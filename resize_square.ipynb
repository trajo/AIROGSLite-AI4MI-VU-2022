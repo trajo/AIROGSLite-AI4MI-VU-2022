{
 "cells": [
  {
   "cell_type": "code",
   "execution_count": 6,
   "metadata": {},
   "outputs": [],
   "source": [
    "import os\n",
    "import cv2\n",
    "import src.preprocessing as ppc\n",
    "from tqdm.notebook import tqdm\n",
    "import json\n",
    "import math"
   ]
  },
  {
   "cell_type": "markdown",
   "metadata": {},
   "source": [
    "## Run this"
   ]
  },
  {
   "cell_type": "code",
   "execution_count": 7,
   "metadata": {},
   "outputs": [],
   "source": [
    "with open('original_shuffled_map.json') as fp:\n",
    "    original_shuffled_map = json.load(fp)"
   ]
  },
  {
   "cell_type": "code",
   "execution_count": 8,
   "metadata": {},
   "outputs": [
    {
     "name": "stdout",
     "output_type": "stream",
     "text": [
      "data/square_png_224_2 does not exist, creating dir\n"
     ]
    }
   ],
   "source": [
    "SUBMISSION_SET = False\n",
    "\n",
    "if SUBMISSION_SET:\n",
    "    OUT_DIR_PREFIX = 'subm_'\n",
    "    CFP_DIR = './data/subm_cfp'\n",
    "    IS_SHUFFLED = False\n",
    "else:\n",
    "    OUT_DIR_PREFIX = ''\n",
    "    CFP_DIR = './data/cfp'\n",
    "    IS_SHUFFLED = False\n",
    "\n",
    "CUTOFF_THRESHOLD = 10\n",
    "RESOLUTION = 224\n",
    "INTERPOLATION_METHOD = cv2.INTER_CUBIC\n",
    "OUT_PATH = f'data/{OUT_DIR_PREFIX}{\"shuffled_\" if IS_SHUFFLED else \"\"}square_png_{RESOLUTION}_{INTERPOLATION_METHOD}'\n",
    "\n",
    "if not os.path.isdir(OUT_PATH):\n",
    "    print(f'{OUT_PATH} does not exist, creating dir')\n",
    "    os.mkdir(OUT_PATH)"
   ]
  },
  {
   "cell_type": "code",
   "execution_count": 9,
   "metadata": {},
   "outputs": [],
   "source": [
    "from multiprocessing import Pool\n",
    "\n",
    "def _make_shuffled_square_img(filename):\n",
    "    try:\n",
    "        file = f\"{CFP_DIR}/{filename}\"\n",
    "        img = cv2.imread(file)\n",
    "        square_img, scaling, cutting, padding = ppc.square_resize(img, RESOLUTION, CUTOFF_THRESHOLD, INTERPOLATION_METHOD)\n",
    "\n",
    "        if IS_SHUFFLED:\n",
    "            new_name = original_shuffled_map[filename] + '.png'\n",
    "        else:\n",
    "            new_name = filename[:-4] + '.png'\n",
    "        cv2.imwrite(f\"{OUT_PATH}/{new_name}\", square_img)\n",
    "        return (filename, new_name, cutting, padding, square_img.shape[0], scaling, img.shape)\n",
    "\n",
    "    except Exception as e:\n",
    "        print(filename, e)\n",
    "        \n",
    "\n",
    "l_files = os.listdir(CFP_DIR)"
   ]
  },
  {
   "cell_type": "code",
   "execution_count": 10,
   "metadata": {},
   "outputs": [
    {
     "data": {
      "text/plain": "  0%|          | 0/15000 [00:00<?, ?it/s]",
      "application/vnd.jupyter.widget-view+json": {
       "version_major": 2,
       "version_minor": 0,
       "model_id": "e5521588df854ef284ddd7d845f1b7a0"
      }
     },
     "metadata": {},
     "output_type": "display_data"
    },
    {
     "name": "stdout",
     "output_type": "stream",
     "text": [
      "Finished.\n"
     ]
    }
   ],
   "source": [
    "with Pool(8) as pool:\n",
    "    op_metadata = list(tqdm(pool.imap(_make_shuffled_square_img, l_files), total=len(l_files)))    \n",
    "print('Finished.')"
   ]
  },
  {
   "cell_type": "code",
   "execution_count": 11,
   "metadata": {},
   "outputs": [
    {
     "data": {
      "text/plain": "          orig_file      new_file  delta_x  delta_y  orig_crop_side  side  \\\n0      DEV01452.jpg  DEV01452.png      -88     -904            3152   224   \n1      DEV08405.jpg  DEV08405.png      171     -144            2262   224   \n2      DEV10680.jpg  DEV10680.png     -138     -650            2797   224   \n3      DEV13443.jpg  DEV13443.png      168     -152            2256   224   \n4      DEV08466.jpg  DEV08466.png      195     -130            2334   224   \n...             ...           ...      ...      ...             ...   ...   \n14995  DEV05006.jpg  DEV05006.png      -34      -56            1871   224   \n14996  DEV04121.jpg  DEV04121.png     -131     -875            2974   224   \n14997  DEV14861.jpg  DEV14861.png      -91     -624            2193   224   \n14998  DEV02406.jpg  DEV02406.png      196     -128            2336   224   \n14999  DEV04311.jpg  DEV04311.png      196     -128            2336   224   \n\n         scaling  \n0      14.071429  \n1      10.098214  \n2      12.486607  \n3      10.071429  \n4      10.419643  \n...          ...  \n14995   8.352679  \n14996  13.276786  \n14997   9.790179  \n14998  10.428571  \n14999  10.428571  \n\n[15000 rows x 7 columns]",
      "text/html": "<div>\n<style scoped>\n    .dataframe tbody tr th:only-of-type {\n        vertical-align: middle;\n    }\n\n    .dataframe tbody tr th {\n        vertical-align: top;\n    }\n\n    .dataframe thead th {\n        text-align: right;\n    }\n</style>\n<table border=\"1\" class=\"dataframe\">\n  <thead>\n    <tr style=\"text-align: right;\">\n      <th></th>\n      <th>orig_file</th>\n      <th>new_file</th>\n      <th>delta_x</th>\n      <th>delta_y</th>\n      <th>orig_crop_side</th>\n      <th>side</th>\n      <th>scaling</th>\n    </tr>\n  </thead>\n  <tbody>\n    <tr>\n      <th>0</th>\n      <td>DEV01452.jpg</td>\n      <td>DEV01452.png</td>\n      <td>-88</td>\n      <td>-904</td>\n      <td>3152</td>\n      <td>224</td>\n      <td>14.071429</td>\n    </tr>\n    <tr>\n      <th>1</th>\n      <td>DEV08405.jpg</td>\n      <td>DEV08405.png</td>\n      <td>171</td>\n      <td>-144</td>\n      <td>2262</td>\n      <td>224</td>\n      <td>10.098214</td>\n    </tr>\n    <tr>\n      <th>2</th>\n      <td>DEV10680.jpg</td>\n      <td>DEV10680.png</td>\n      <td>-138</td>\n      <td>-650</td>\n      <td>2797</td>\n      <td>224</td>\n      <td>12.486607</td>\n    </tr>\n    <tr>\n      <th>3</th>\n      <td>DEV13443.jpg</td>\n      <td>DEV13443.png</td>\n      <td>168</td>\n      <td>-152</td>\n      <td>2256</td>\n      <td>224</td>\n      <td>10.071429</td>\n    </tr>\n    <tr>\n      <th>4</th>\n      <td>DEV08466.jpg</td>\n      <td>DEV08466.png</td>\n      <td>195</td>\n      <td>-130</td>\n      <td>2334</td>\n      <td>224</td>\n      <td>10.419643</td>\n    </tr>\n    <tr>\n      <th>...</th>\n      <td>...</td>\n      <td>...</td>\n      <td>...</td>\n      <td>...</td>\n      <td>...</td>\n      <td>...</td>\n      <td>...</td>\n    </tr>\n    <tr>\n      <th>14995</th>\n      <td>DEV05006.jpg</td>\n      <td>DEV05006.png</td>\n      <td>-34</td>\n      <td>-56</td>\n      <td>1871</td>\n      <td>224</td>\n      <td>8.352679</td>\n    </tr>\n    <tr>\n      <th>14996</th>\n      <td>DEV04121.jpg</td>\n      <td>DEV04121.png</td>\n      <td>-131</td>\n      <td>-875</td>\n      <td>2974</td>\n      <td>224</td>\n      <td>13.276786</td>\n    </tr>\n    <tr>\n      <th>14997</th>\n      <td>DEV14861.jpg</td>\n      <td>DEV14861.png</td>\n      <td>-91</td>\n      <td>-624</td>\n      <td>2193</td>\n      <td>224</td>\n      <td>9.790179</td>\n    </tr>\n    <tr>\n      <th>14998</th>\n      <td>DEV02406.jpg</td>\n      <td>DEV02406.png</td>\n      <td>196</td>\n      <td>-128</td>\n      <td>2336</td>\n      <td>224</td>\n      <td>10.428571</td>\n    </tr>\n    <tr>\n      <th>14999</th>\n      <td>DEV04311.jpg</td>\n      <td>DEV04311.png</td>\n      <td>196</td>\n      <td>-128</td>\n      <td>2336</td>\n      <td>224</td>\n      <td>10.428571</td>\n    </tr>\n  </tbody>\n</table>\n<p>15000 rows × 7 columns</p>\n</div>"
     },
     "execution_count": 11,
     "metadata": {},
     "output_type": "execute_result"
    }
   ],
   "source": [
    "import pandas as pd\n",
    "\n",
    "df_img_info = pd.DataFrame.from_records([{\n",
    "        'orig_file' : opdata[0],\n",
    "        'new_file' : opdata[1],\n",
    "        'delta_x' : opdata[3][0] - opdata[2][0],\n",
    "        'delta_y' : opdata[3][2] - opdata[2][2],\n",
    "        'orig_crop_side' : round(opdata[4] * opdata[5]),\n",
    "        'side' : RESOLUTION,\n",
    "        'scaling' : round(opdata[4] * opdata[5]) / RESOLUTION,\n",
    "    } for opdata in op_metadata if opdata is not None])\n",
    "\n",
    "df_img_info.sort_values(by='new_file', ascending=True).to_csv(os.path.join(OUT_PATH, 'img_info.csv'), index=False)\n",
    "df_img_info"
   ]
  }
 ],
 "metadata": {
  "kernelspec": {
   "display_name": "Python 3 (ipykernel)",
   "language": "python",
   "name": "python3"
  },
  "language_info": {
   "codemirror_mode": {
    "name": "ipython",
    "version": 3
   },
   "file_extension": ".py",
   "mimetype": "text/x-python",
   "name": "python",
   "nbconvert_exporter": "python",
   "pygments_lexer": "ipython3",
   "version": "3.10.6"
  },
  "vscode": {
   "interpreter": {
    "hash": "57f342097538a94dce76f641226d5c17132434264349d7950426b24ea9e8926f"
   }
  }
 },
 "nbformat": 4,
 "nbformat_minor": 2
}
