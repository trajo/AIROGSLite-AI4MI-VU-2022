{
 "cells": [
  {
   "cell_type": "code",
   "execution_count": null,
   "metadata": {
    "pycharm": {
     "name": "#%%\n"
    }
   },
   "outputs": [],
   "source": [
    "import os\n",
    "import cv2\n",
    "import src.preprocessing as ppc\n",
    "from tqdm.notebook import tqdm\n",
    "import json\n",
    "import math"
   ]
  },
  {
   "cell_type": "markdown",
   "metadata": {
    "pycharm": {
     "name": "#%% md\n"
    }
   },
   "source": [
    "## Run this"
   ]
  },
  {
   "cell_type": "code",
   "execution_count": null,
   "metadata": {
    "pycharm": {
     "name": "#%%\n"
    }
   },
   "outputs": [],
   "source": [
    "with open('original_shuffled_map.json') as fp:\n",
    "    original_shuffled_map = json.load(fp)"
   ]
  },
  {
   "cell_type": "code",
   "execution_count": null,
   "metadata": {},
   "outputs": [],
   "source": [
    "CUTOFF_THRESHOLD = 0\n",
    "RESOLUTION = 416\n",
    "OUT_PATH = f'data/shuffled_square_png_{RESOLUTION}'\n",
    "\n",
    "if not os.path.isdir(OUT_PATH):\n",
    "    print(f'{OUT_PATH} does not exist, creating dir')\n",
    "    os.mkdir(OUT_PATH)"
   ]
  },
  {
   "cell_type": "code",
   "execution_count": null,
   "metadata": {
    "pycharm": {
     "name": "#%%\n"
    }
   },
   "outputs": [],
   "source": [
    "from multiprocessing import Pool\n",
    "\n",
    "def _make_shuffled_square_img(filename):\n",
    "    try:\n",
    "        file = f\"data/cfp/{filename}\"\n",
    "        img = cv2.imread(file)\n",
    "        square_img, scaling, cutting, padding = ppc.square_resize(img, RESOLUTION, CUTOFF_THRESHOLD)\n",
    "                \n",
    "        new_name = original_shuffled_map[filename]\n",
    "        cv2.imwrite(f\"{OUT_PATH}/{new_name}.png\", square_img)\n",
    "        return (filename, new_name, cutting, padding, square_img.shape[0], scaling, img.shape)\n",
    "\n",
    "    except Exception as e:\n",
    "        print(filename, e)\n",
    "        \n",
    "        \n",
    "        \n",
    "l_files = os.listdir(\"data/cfp\")"
   ]
  },
  {
   "cell_type": "code",
   "execution_count": null,
   "metadata": {},
   "outputs": [],
   "source": [
    "with Pool() as pool:\n",
    "    op_metadata = list(tqdm(pool.imap(_make_shuffled_square_img, l_files), total=len(l_files)))    \n",
    "print('Finished.')"
   ]
  },
  {
   "cell_type": "code",
   "execution_count": null,
   "metadata": {},
   "outputs": [],
   "source": [
    "import pandas as pd\n",
    "\n",
    "df_img_info = pd.DataFrame.from_records([{\n",
    "        'orig_file' : opdata[0],\n",
    "        'new_file' : opdata[1],\n",
    "        'delta_x' : opdata[3][0] - opdata[2][0],\n",
    "        'delta_y' : opdata[3][2] - opdata[2][2],\n",
    "        'orig_crop_side' : round(opdata[4] * opdata[5]),\n",
    "        'side' : RESOLUTION,\n",
    "        'scaling' : round(opdata[4] * opdata[5]) / RESOLUTION,\n",
    "    } for opdata in op_metadata if opdata is not None])\n",
    "\n",
    "df_img_info.to_csv(os.path.join(OUT_PATH, 'img_info.csv'))\n",
    "df_img_info"
   ]
  },
  {
   "cell_type": "code",
   "execution_count": null,
   "metadata": {},
   "outputs": [],
   "source": []
  }
 ],
 "metadata": {
  "kernelspec": {
   "display_name": "Python 3 (ipykernel)",
   "language": "python",
   "name": "python3"
  },
  "language_info": {
   "codemirror_mode": {
    "name": "ipython",
    "version": 3
   },
   "file_extension": ".py",
   "mimetype": "text/x-python",
   "name": "python",
   "nbconvert_exporter": "python",
   "pygments_lexer": "ipython3",
   "version": "3.10.6"
  },
  "vscode": {
   "interpreter": {
    "hash": "57f342097538a94dce76f641226d5c17132434264349d7950426b24ea9e8926f"
   }
  }
 },
 "nbformat": 4,
 "nbformat_minor": 2
}
